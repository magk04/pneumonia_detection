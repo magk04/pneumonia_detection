{
 "cells": [
  {
   "cell_type": "code",
   "execution_count": 1,
   "metadata": {
    "_cell_guid": "79c7e3d0-c299-4dcb-8224-4455121ee9b0",
    "_uuid": "d629ff2d2480ee46fbb7e2d37f6b5fab8052498a",
    "execution": {
     "iopub.execute_input": "2021-01-03T13:36:27.997743Z",
     "iopub.status.busy": "2021-01-03T13:36:27.996892Z",
     "iopub.status.idle": "2021-01-03T13:36:36.966628Z",
     "shell.execute_reply": "2021-01-03T13:36:36.965025Z"
    },
    "papermill": {
     "duration": 8.987039,
     "end_time": "2021-01-03T13:36:36.966787",
     "exception": false,
     "start_time": "2021-01-03T13:36:27.979748",
     "status": "completed"
    },
    "tags": []
   },
   "outputs": [
    {
     "name": "stdout",
     "output_type": "stream",
     "text": [
      "\u001b[33mWARNING: You are using pip version 20.3.1; however, version 20.3.3 is available.\r\n",
      "You should consider upgrading via the '/opt/conda/bin/python3.7 -m pip install --upgrade pip' command.\u001b[0m\r\n"
     ]
    }
   ],
   "source": [
    "!pip install efficientnet -q"
   ]
  },
  {
   "cell_type": "code",
   "execution_count": 2,
   "metadata": {
    "execution": {
     "iopub.execute_input": "2021-01-03T13:36:37.019897Z",
     "iopub.status.busy": "2021-01-03T13:36:37.019035Z",
     "iopub.status.idle": "2021-01-03T13:36:42.387149Z",
     "shell.execute_reply": "2021-01-03T13:36:42.386285Z"
    },
    "papermill": {
     "duration": 5.394975,
     "end_time": "2021-01-03T13:36:42.387271",
     "exception": false,
     "start_time": "2021-01-03T13:36:36.992296",
     "status": "completed"
    },
    "tags": []
   },
   "outputs": [],
   "source": [
    "import pandas as pd\n",
    "import numpy as np\n",
    "import os\n",
    "\n",
    "import cv2\n",
    "import matplotlib.pyplot as plt\n",
    "import scikitplot as skplt\n",
    "\n",
    "from sklearn import metrics\n",
    "from sklearn.model_selection import StratifiedKFold\n",
    "from sklearn.utils import shuffle\n",
    "from sklearn.svm import SVC\n",
    "\n",
    "\n",
    "import tensorflow as tf\n",
    "\n",
    "import efficientnet.keras as efn\n",
    "\n",
    "import warnings\n",
    "warnings.filterwarnings('ignore')"
   ]
  },
  {
   "cell_type": "code",
   "execution_count": 3,
   "metadata": {
    "execution": {
     "iopub.execute_input": "2021-01-03T13:36:42.413291Z",
     "iopub.status.busy": "2021-01-03T13:36:42.412777Z",
     "iopub.status.idle": "2021-01-03T13:36:42.416709Z",
     "shell.execute_reply": "2021-01-03T13:36:42.416235Z"
    },
    "papermill": {
     "duration": 0.018568,
     "end_time": "2021-01-03T13:36:42.416792",
     "exception": false,
     "start_time": "2021-01-03T13:36:42.398224",
     "status": "completed"
    },
    "tags": []
   },
   "outputs": [],
   "source": [
    "TRAIN_NORMAL_DIR = '../input/chest-xray-pneumonia/chest_xray/train/NORMAL'\n",
    "TRAIN_PNEUMONIA_DIR = '../input/chest-xray-pneumonia/chest_xray/train/PNEUMONIA'\n",
    "VAL_NORMAL_DIR = '../input/chest-xray-pneumonia/chest_xray/val/NORMAL'\n",
    "VAL_PNEUMONIA_DIR = '../input/chest-xray-pneumonia/chest_xray/val/PNEUMONIA'\n",
    "TEST_NORMAL_DIR = '../input/chest-xray-pneumonia/chest_xray/test/NORMAL'\n",
    "TEST_PNEUMONIA_DIR = '../input/chest-xray-pneumonia/chest_xray/test/PNEUMONIA'"
   ]
  },
  {
   "cell_type": "code",
   "execution_count": 4,
   "metadata": {
    "execution": {
     "iopub.execute_input": "2021-01-03T13:36:42.448733Z",
     "iopub.status.busy": "2021-01-03T13:36:42.448185Z",
     "iopub.status.idle": "2021-01-03T13:36:47.907902Z",
     "shell.execute_reply": "2021-01-03T13:36:47.907106Z"
    },
    "papermill": {
     "duration": 5.480528,
     "end_time": "2021-01-03T13:36:47.908011",
     "exception": false,
     "start_time": "2021-01-03T13:36:42.427483",
     "status": "completed"
    },
    "tags": []
   },
   "outputs": [],
   "source": [
    "train_normal_paths = []\n",
    "train_pneumonia_paths = []\n",
    "\n",
    "val_normal_paths = []\n",
    "val_pneumonia_paths = []\n",
    "\n",
    "test_normal_paths = []\n",
    "test_pneumonia_paths = []\n",
    "\n",
    "for dirname, _, filenames in os.walk(TRAIN_NORMAL_DIR):\n",
    "    for filename in filenames:\n",
    "        train_normal_paths.append(os.path.join(dirname, filename))\n",
    "\n",
    "for dirname, _, filenames in os.walk(TRAIN_PNEUMONIA_DIR):\n",
    "    for filename in filenames:\n",
    "        train_pneumonia_paths.append(os.path.join(dirname, filename))\n",
    "        \n",
    "for dirname, _, filenames in os.walk(VAL_NORMAL_DIR):\n",
    "    for filename in filenames:\n",
    "        val_normal_paths.append(os.path.join(dirname, filename))\n",
    "\n",
    "for dirname, _, filenames in os.walk(VAL_PNEUMONIA_DIR):\n",
    "    for filename in filenames:\n",
    "        val_pneumonia_paths.append(os.path.join(dirname, filename))\n",
    "        \n",
    "for dirname, _, filenames in os.walk(TEST_NORMAL_DIR):\n",
    "    for filename in filenames:\n",
    "        test_normal_paths.append(os.path.join(dirname, filename))\n",
    "        \n",
    "for dirname, _, filenames in os.walk(TEST_PNEUMONIA_DIR):\n",
    "    for filename in filenames:\n",
    "        test_pneumonia_paths.append(os.path.join(dirname, filename))"
   ]
  },
  {
   "cell_type": "code",
   "execution_count": 5,
   "metadata": {
    "execution": {
     "iopub.execute_input": "2021-01-03T13:36:47.945959Z",
     "iopub.status.busy": "2021-01-03T13:36:47.944016Z",
     "iopub.status.idle": "2021-01-03T13:36:47.946649Z",
     "shell.execute_reply": "2021-01-03T13:36:47.947085Z"
    },
    "papermill": {
     "duration": 0.026769,
     "end_time": "2021-01-03T13:36:47.947189",
     "exception": false,
     "start_time": "2021-01-03T13:36:47.920420",
     "status": "completed"
    },
    "tags": []
   },
   "outputs": [],
   "source": [
    "train_normal_labels = ['Normal']*len(train_normal_paths)\n",
    "train_pneumonia_labels = [c.split('/')[-1].split('.')[0].split('_')[1] for c in train_pneumonia_paths]\n",
    "\n",
    "val_normal_labels = ['Normal']*len(val_normal_paths)\n",
    "val_pneumonia_labels = [c.split('/')[-1].split('.')[0].split('_')[1] for c in val_pneumonia_paths]\n",
    "\n",
    "test_normal_labels = ['Normal']*len(test_normal_paths)\n",
    "test_pneumonia_labels = [c.split('/')[-1].split('.')[0].split('_')[1] for c in test_pneumonia_paths]"
   ]
  },
  {
   "cell_type": "code",
   "execution_count": 6,
   "metadata": {
    "execution": {
     "iopub.execute_input": "2021-01-03T13:36:47.977340Z",
     "iopub.status.busy": "2021-01-03T13:36:47.976523Z",
     "iopub.status.idle": "2021-01-03T13:36:47.982556Z",
     "shell.execute_reply": "2021-01-03T13:36:47.982114Z"
    },
    "papermill": {
     "duration": 0.024501,
     "end_time": "2021-01-03T13:36:47.982637",
     "exception": false,
     "start_time": "2021-01-03T13:36:47.958136",
     "status": "completed"
    },
    "tags": []
   },
   "outputs": [],
   "source": [
    "train = pd.DataFrame({'Paths': train_normal_paths+train_pneumonia_paths, 'Labels': train_normal_labels+train_pneumonia_labels})\n",
    "val = pd.DataFrame({'Paths': val_normal_paths+val_pneumonia_paths, 'Labels': val_normal_labels+val_pneumonia_labels})\n",
    "test = pd.DataFrame({'Paths': test_normal_paths+test_pneumonia_paths, 'Labels': test_normal_labels+test_pneumonia_labels})"
   ]
  },
  {
   "cell_type": "code",
   "execution_count": 7,
   "metadata": {
    "execution": {
     "iopub.execute_input": "2021-01-03T13:36:48.015835Z",
     "iopub.status.busy": "2021-01-03T13:36:48.015221Z",
     "iopub.status.idle": "2021-01-03T13:36:48.021134Z",
     "shell.execute_reply": "2021-01-03T13:36:48.020646Z"
    },
    "papermill": {
     "duration": 0.027424,
     "end_time": "2021-01-03T13:36:48.021213",
     "exception": false,
     "start_time": "2021-01-03T13:36:47.993789",
     "status": "completed"
    },
    "tags": []
   },
   "outputs": [],
   "source": [
    "train = shuffle(train.append(val), random_state=42)\n",
    "test = shuffle(test, random_state=42)"
   ]
  },
  {
   "cell_type": "code",
   "execution_count": 8,
   "metadata": {
    "execution": {
     "iopub.execute_input": "2021-01-03T13:36:48.047644Z",
     "iopub.status.busy": "2021-01-03T13:36:48.046967Z",
     "iopub.status.idle": "2021-01-03T13:36:48.049919Z",
     "shell.execute_reply": "2021-01-03T13:36:48.049469Z"
    },
    "papermill": {
     "duration": 0.017608,
     "end_time": "2021-01-03T13:36:48.049998",
     "exception": false,
     "start_time": "2021-01-03T13:36:48.032390",
     "status": "completed"
    },
    "tags": []
   },
   "outputs": [],
   "source": [
    "IMG_SIZE = 128\n",
    "EPOCHS = 30\n",
    "FOLDS = 3\n",
    "NAMES = ['EfficientNetB0', 'EfficientNetB1', 'ResNet50V2', 'VGG19']"
   ]
  },
  {
   "cell_type": "code",
   "execution_count": 9,
   "metadata": {
    "execution": {
     "iopub.execute_input": "2021-01-03T13:36:48.083432Z",
     "iopub.status.busy": "2021-01-03T13:36:48.082663Z",
     "iopub.status.idle": "2021-01-03T13:36:48.109954Z",
     "shell.execute_reply": "2021-01-03T13:36:48.109078Z"
    },
    "papermill": {
     "duration": 0.04873,
     "end_time": "2021-01-03T13:36:48.110037",
     "exception": false,
     "start_time": "2021-01-03T13:36:48.061307",
     "status": "completed"
    },
    "tags": []
   },
   "outputs": [
    {
     "name": "stdout",
     "output_type": "stream",
     "text": [
      "Found 624 validated image filenames belonging to 3 classes.\n"
     ]
    }
   ],
   "source": [
    "train_generator =  tf.keras.preprocessing.image.ImageDataGenerator(\n",
    "    rotation_range=90, \n",
    "    width_shift_range=0.4,\n",
    "    height_shift_range=0.4, \n",
    "    shear_range=0.4,\n",
    "    zoom_range=0.4,\n",
    "    fill_mode='nearest', \n",
    "    horizontal_flip=True,\n",
    "    vertical_flip=True, \n",
    "    rescale=1./255\n",
    ")\n",
    "\n",
    "val_generator =  tf.keras.preprocessing.image.ImageDataGenerator(\n",
    "    rescale=1./255,\n",
    ")\n",
    "\n",
    "test_generator =  tf.keras.preprocessing.image.ImageDataGenerator(\n",
    "    rescale=1./255,\n",
    ")\n",
    "\n",
    "testgen = test_generator.flow_from_dataframe(\n",
    "    dataframe=test,\n",
    "    target_size=(IMG_SIZE, IMG_SIZE),\n",
    "    x_col='Paths',\n",
    "    y_col='Labels',\n",
    "    class_mode='categorical',\n",
    "    shuffle=False,\n",
    ")"
   ]
  },
  {
   "cell_type": "code",
   "execution_count": 10,
   "metadata": {
    "execution": {
     "iopub.execute_input": "2021-01-03T13:36:48.141318Z",
     "iopub.status.busy": "2021-01-03T13:36:48.140797Z",
     "iopub.status.idle": "2021-01-03T13:36:48.143725Z",
     "shell.execute_reply": "2021-01-03T13:36:48.143219Z"
    },
    "papermill": {
     "duration": 0.02199,
     "end_time": "2021-01-03T13:36:48.143813",
     "exception": false,
     "start_time": "2021-01-03T13:36:48.121823",
     "status": "completed"
    },
    "tags": []
   },
   "outputs": [],
   "source": [
    "def build_model(Model, input_shape=(IMG_SIZE, IMG_SIZE, 3), n_labels=3):\n",
    "    model = tf.keras.models.Sequential()\n",
    "    model.add(Model(input_shape=input_shape, weights='imagenet', include_top=False))\n",
    "    model.add(tf.keras.layers.GlobalAveragePooling2D())\n",
    "    model.add(tf.keras.layers.Dense(n_labels, activation='softmax'))\n",
    "\n",
    "    model.compile(\n",
    "        optimizer=tf.keras.optimizers.Adam(),\n",
    "        loss=tf.keras.losses.CategoricalCrossentropy(label_smoothing=0.1),\n",
    "        metrics=[tf.keras.metrics.Recall(), tf.keras.metrics.Precision(), tf.keras.metrics.AUC()]\n",
    "    )\n",
    "    return model"
   ]
  },
  {
   "cell_type": "code",
   "execution_count": 11,
   "metadata": {
    "execution": {
     "iopub.execute_input": "2021-01-03T13:36:48.175130Z",
     "iopub.status.busy": "2021-01-03T13:36:48.174457Z",
     "iopub.status.idle": "2021-01-03T13:36:48.177477Z",
     "shell.execute_reply": "2021-01-03T13:36:48.177016Z"
    },
    "papermill": {
     "duration": 0.022027,
     "end_time": "2021-01-03T13:36:48.177574",
     "exception": false,
     "start_time": "2021-01-03T13:36:48.155547",
     "status": "completed"
    },
    "tags": []
   },
   "outputs": [],
   "source": [
    "LR_START = 0.0001\n",
    "LR_MAX = 0.00005 * 8\n",
    "LR_MIN = 0.00001\n",
    "LR_RAMPUP_EPOCHS = 5\n",
    "LR_SUSTAIN_EPOCHS = 0\n",
    "LR_EXP_DECAY = .8\n",
    "\n",
    "def lrfn(epoch):\n",
    "    if epoch < LR_RAMPUP_EPOCHS:\n",
    "        lr = (LR_MAX - LR_START) / LR_RAMPUP_EPOCHS * epoch + LR_START\n",
    "    elif epoch < LR_RAMPUP_EPOCHS + LR_SUSTAIN_EPOCHS:\n",
    "        lr = LR_MAX\n",
    "    else:\n",
    "        lr = (LR_MAX - LR_MIN) * LR_EXP_DECAY**(epoch - LR_RAMPUP_EPOCHS - LR_SUSTAIN_EPOCHS) + LR_MIN\n",
    "    return lr\n",
    "    \n",
    "lr_callback = tf.keras.callbacks.LearningRateScheduler(lrfn, verbose = False)\n",
    "es = tf.keras.callbacks.EarlyStopping(monitor='val_loss', patience=7, mode='min', restore_best_weights=True)"
   ]
  },
  {
   "cell_type": "code",
   "execution_count": 12,
   "metadata": {
    "execution": {
     "iopub.execute_input": "2021-01-03T13:36:48.205690Z",
     "iopub.status.busy": "2021-01-03T13:36:48.205012Z",
     "iopub.status.idle": "2021-01-03T13:36:48.207948Z",
     "shell.execute_reply": "2021-01-03T13:36:48.207550Z"
    },
    "papermill": {
     "duration": 0.018521,
     "end_time": "2021-01-03T13:36:48.208029",
     "exception": false,
     "start_time": "2021-01-03T13:36:48.189508",
     "status": "completed"
    },
    "tags": []
   },
   "outputs": [],
   "source": [
    "MODELS=[\n",
    "    efn.EfficientNetB0,\n",
    "    efn.EfficientNetB1,\n",
    "    tf.keras.applications.ResNet50V2,\n",
    "    tf.keras.applications.VGG19\n",
    "]"
   ]
  },
  {
   "cell_type": "code",
   "execution_count": 13,
   "metadata": {
    "execution": {
     "iopub.execute_input": "2021-01-03T13:36:48.249900Z",
     "iopub.status.busy": "2021-01-03T13:36:48.249083Z",
     "iopub.status.idle": "2021-01-03T17:34:12.087336Z",
     "shell.execute_reply": "2021-01-03T17:34:12.086832Z"
    },
    "papermill": {
     "duration": 14243.867461,
     "end_time": "2021-01-03T17:34:12.087447",
     "exception": false,
     "start_time": "2021-01-03T13:36:48.219986",
     "status": "completed"
    },
    "tags": []
   },
   "outputs": [
    {
     "name": "stdout",
     "output_type": "stream",
     "text": [
      "Training EfficientNetB0\n",
      "## Fold: 0 ## \n",
      "\n",
      "Found 3488 validated image filenames belonging to 3 classes.\n",
      "Found 1744 validated image filenames belonging to 3 classes.\n",
      "Downloading data from https://github.com/Callidior/keras-applications/releases/download/efficientnet/efficientnet-b0_weights_tf_dim_ordering_tf_kernels_autoaugment_notop.h5\n",
      "16809984/16804768 [==============================] - 1s 0us/step\n",
      "Epoch 1/30\n",
      "109/109 [==============================] - 107s 980ms/step - loss: 0.9017 - recall: 0.4404 - precision: 0.6925 - auc: 0.7939 - val_loss: 1.1382 - val_recall: 0.4788 - val_precision: 0.5258 - val_auc: 0.6956\n",
      "Epoch 2/30\n",
      "109/109 [==============================] - 63s 580ms/step - loss: 0.7645 - recall: 0.6425 - precision: 0.7591 - auc: 0.8785 - val_loss: 1.2657 - val_recall: 0.5172 - val_precision: 0.5520 - val_auc: 0.6994\n",
      "Epoch 3/30\n",
      "109/109 [==============================] - 63s 582ms/step - loss: 0.7382 - recall: 0.6692 - precision: 0.7660 - auc: 0.8915 - val_loss: 0.7315 - val_recall: 0.6737 - val_precision: 0.7630 - val_auc: 0.8918\n",
      "Epoch 4/30\n",
      "109/109 [==============================] - 63s 582ms/step - loss: 0.7251 - recall: 0.6866 - precision: 0.7701 - auc: 0.8979 - val_loss: 0.7188 - val_recall: 0.6984 - val_precision: 0.7873 - val_auc: 0.8982\n",
      "Epoch 5/30\n",
      "109/109 [==============================] - 64s 583ms/step - loss: 0.7104 - recall: 0.7067 - precision: 0.7833 - auc: 0.9044 - val_loss: 0.6601 - val_recall: 0.7288 - val_precision: 0.8179 - val_auc: 0.9249\n",
      "Epoch 6/30\n",
      "109/109 [==============================] - 64s 587ms/step - loss: 0.6957 - recall: 0.7104 - precision: 0.7820 - auc: 0.9107 - val_loss: 0.7163 - val_recall: 0.6984 - val_precision: 0.7894 - val_auc: 0.9052\n",
      "Epoch 7/30\n",
      "109/109 [==============================] - 65s 597ms/step - loss: 0.6674 - recall: 0.7437 - precision: 0.8127 - auc: 0.9222 - val_loss: 0.6964 - val_recall: 0.6932 - val_precision: 0.7666 - val_auc: 0.9082\n",
      "Epoch 8/30\n",
      "109/109 [==============================] - 64s 589ms/step - loss: 0.6643 - recall: 0.7342 - precision: 0.7963 - auc: 0.9229 - val_loss: 0.7667 - val_recall: 0.6898 - val_precision: 0.7667 - val_auc: 0.8916\n",
      "Epoch 9/30\n",
      "109/109 [==============================] - 64s 587ms/step - loss: 0.6516 - recall: 0.7523 - precision: 0.8180 - auc: 0.9277 - val_loss: 0.7151 - val_recall: 0.7414 - val_precision: 0.7899 - val_auc: 0.9095\n",
      "Epoch 10/30\n",
      "109/109 [==============================] - 64s 583ms/step - loss: 0.6409 - recall: 0.7552 - precision: 0.8127 - auc: 0.9316 - val_loss: 0.7568 - val_recall: 0.6846 - val_precision: 0.7659 - val_auc: 0.8909\n",
      "Epoch 11/30\n",
      "109/109 [==============================] - 64s 586ms/step - loss: 0.6313 - recall: 0.7663 - precision: 0.8192 - auc: 0.9356 - val_loss: 0.8727 - val_recall: 0.6606 - val_precision: 0.7232 - val_auc: 0.8560\n",
      "Epoch 12/30\n",
      "109/109 [==============================] - 64s 584ms/step - loss: 0.6222 - recall: 0.7812 - precision: 0.8305 - auc: 0.9384 - val_loss: 0.7568 - val_recall: 0.7058 - val_precision: 0.7561 - val_auc: 0.8920\n",
      "## Fold: 1 ## \n",
      "\n",
      "Found 3488 validated image filenames belonging to 3 classes.\n",
      "Found 1744 validated image filenames belonging to 3 classes.\n",
      "Epoch 1/30\n",
      "109/109 [==============================] - 65s 601ms/step - loss: 0.8960 - recall_1: 0.4475 - precision_1: 0.7099 - auc_1: 0.7988 - val_loss: 1.2620 - val_recall_1: 0.2477 - val_precision_1: 0.2731 - val_auc_1: 0.5808\n",
      "Epoch 2/30\n",
      "109/109 [==============================] - 64s 585ms/step - loss: 0.7562 - recall_1: 0.6482 - precision_1: 0.7636 - auc_1: 0.8822 - val_loss: 1.1715 - val_recall_1: 0.3716 - val_precision_1: 0.4291 - val_auc_1: 0.6492\n",
      "Epoch 3/30\n",
      "109/109 [==============================] - 64s 587ms/step - loss: 0.7316 - recall_1: 0.6884 - precision_1: 0.7698 - auc_1: 0.8945 - val_loss: 1.3293 - val_recall_1: 0.4100 - val_precision_1: 0.4341 - val_auc_1: 0.6407\n",
      "Epoch 4/30\n",
      "109/109 [==============================] - 64s 589ms/step - loss: 0.7043 - recall_1: 0.7147 - precision_1: 0.7845 - auc_1: 0.9068 - val_loss: 0.7835 - val_recall_1: 0.6462 - val_precision_1: 0.7313 - val_auc_1: 0.8691\n",
      "Epoch 5/30\n",
      "109/109 [==============================] - 64s 587ms/step - loss: 0.6991 - recall_1: 0.7113 - precision_1: 0.7768 - auc_1: 0.9091 - val_loss: 0.7472 - val_recall_1: 0.6927 - val_precision_1: 0.7680 - val_auc_1: 0.8907\n",
      "Epoch 6/30\n",
      "109/109 [==============================] - 64s 586ms/step - loss: 0.6897 - recall_1: 0.7165 - precision_1: 0.7807 - auc_1: 0.9124 - val_loss: 0.7583 - val_recall_1: 0.6944 - val_precision_1: 0.7498 - val_auc_1: 0.8929\n",
      "Epoch 7/30\n",
      "109/109 [==============================] - 64s 584ms/step - loss: 0.6745 - recall_1: 0.7400 - precision_1: 0.8018 - auc_1: 0.9191 - val_loss: 0.7137 - val_recall_1: 0.7242 - val_precision_1: 0.7820 - val_auc_1: 0.9105\n",
      "Epoch 8/30\n",
      "109/109 [==============================] - 64s 591ms/step - loss: 0.6607 - recall_1: 0.7408 - precision_1: 0.8005 - auc_1: 0.9238 - val_loss: 0.8182 - val_recall_1: 0.6869 - val_precision_1: 0.7554 - val_auc_1: 0.8768\n",
      "Epoch 9/30\n",
      "109/109 [==============================] - 64s 588ms/step - loss: 0.6426 - recall_1: 0.7552 - precision_1: 0.8097 - auc_1: 0.9309 - val_loss: 0.7688 - val_recall_1: 0.7276 - val_precision_1: 0.7738 - val_auc_1: 0.8963\n",
      "Epoch 10/30\n",
      "109/109 [==============================] - 63s 580ms/step - loss: 0.6381 - recall_1: 0.7635 - precision_1: 0.8181 - auc_1: 0.9325 - val_loss: 0.8256 - val_recall_1: 0.7099 - val_precision_1: 0.7618 - val_auc_1: 0.8754\n",
      "Epoch 11/30\n",
      "109/109 [==============================] - 64s 587ms/step - loss: 0.6262 - recall_1: 0.7709 - precision_1: 0.8233 - auc_1: 0.9368 - val_loss: 0.7601 - val_recall_1: 0.7236 - val_precision_1: 0.7776 - val_auc_1: 0.8949\n",
      "Epoch 12/30\n",
      "109/109 [==============================] - 64s 583ms/step - loss: 0.6212 - recall_1: 0.7678 - precision_1: 0.8230 - auc_1: 0.9385 - val_loss: 0.7483 - val_recall_1: 0.7144 - val_precision_1: 0.7773 - val_auc_1: 0.8976\n",
      "Epoch 13/30\n",
      "109/109 [==============================] - 64s 585ms/step - loss: 0.6172 - recall_1: 0.7790 - precision_1: 0.8261 - auc_1: 0.9401 - val_loss: 0.7678 - val_recall_1: 0.7081 - val_precision_1: 0.7797 - val_auc_1: 0.8884\n",
      "Epoch 14/30\n",
      "109/109 [==============================] - 64s 587ms/step - loss: 0.6169 - recall_1: 0.7764 - precision_1: 0.8256 - auc_1: 0.9404 - val_loss: 0.7563 - val_recall_1: 0.7081 - val_precision_1: 0.7787 - val_auc_1: 0.8903\n",
      "## Fold: 2 ## \n",
      "\n",
      "Found 3488 validated image filenames belonging to 3 classes.\n",
      "Found 1744 validated image filenames belonging to 3 classes.\n",
      "Epoch 1/30\n",
      "109/109 [==============================] - 67s 614ms/step - loss: 0.8887 - recall_2: 0.4699 - precision_2: 0.7330 - auc_2: 0.8075 - val_loss: 1.2547 - val_recall_2: 0.2867 - val_precision_2: 0.3663 - val_auc_2: 0.5764\n",
      "Epoch 2/30\n",
      "109/109 [==============================] - 64s 586ms/step - loss: 0.7550 - recall_2: 0.6626 - precision_2: 0.7701 - auc_2: 0.8837 - val_loss: 1.2079 - val_recall_2: 0.3761 - val_precision_2: 0.4620 - val_auc_2: 0.6405\n",
      "Epoch 3/30\n",
      "109/109 [==============================] - 64s 591ms/step - loss: 0.7287 - recall_2: 0.6990 - precision_2: 0.7847 - auc_2: 0.8963 - val_loss: 0.8179 - val_recall_2: 0.5728 - val_precision_2: 0.7182 - val_auc_2: 0.8474\n",
      "Epoch 4/30\n",
      "109/109 [==============================] - 65s 592ms/step - loss: 0.7078 - recall_2: 0.7142 - precision_2: 0.7895 - auc_2: 0.9058 - val_loss: 0.7778 - val_recall_2: 0.6353 - val_precision_2: 0.7537 - val_auc_2: 0.8694\n",
      "Epoch 5/30\n",
      "109/109 [==============================] - 65s 593ms/step - loss: 0.6960 - recall_2: 0.7242 - precision_2: 0.8009 - auc_2: 0.9110 - val_loss: 0.6979 - val_recall_2: 0.6984 - val_precision_2: 0.8174 - val_auc_2: 0.9096\n",
      "Epoch 6/30\n",
      "109/109 [==============================] - 64s 589ms/step - loss: 0.6781 - recall_2: 0.7403 - precision_2: 0.7981 - auc_2: 0.9183 - val_loss: 0.7020 - val_recall_2: 0.7110 - val_precision_2: 0.7995 - val_auc_2: 0.9054\n",
      "Epoch 7/30\n",
      "109/109 [==============================] - 64s 586ms/step - loss: 0.6771 - recall_2: 0.7408 - precision_2: 0.8050 - auc_2: 0.9179 - val_loss: 0.7390 - val_recall_2: 0.6886 - val_precision_2: 0.7789 - val_auc_2: 0.8994\n",
      "Epoch 8/30\n",
      "109/109 [==============================] - 65s 594ms/step - loss: 0.6579 - recall_2: 0.7523 - precision_2: 0.8052 - auc_2: 0.9254 - val_loss: 0.7164 - val_recall_2: 0.7041 - val_precision_2: 0.7887 - val_auc_2: 0.9071\n",
      "Epoch 9/30\n",
      "109/109 [==============================] - 64s 592ms/step - loss: 0.6352 - recall_2: 0.7629 - precision_2: 0.8221 - auc_2: 0.9339 - val_loss: 0.7377 - val_recall_2: 0.7271 - val_precision_2: 0.7808 - val_auc_2: 0.9050\n",
      "Epoch 10/30\n",
      "109/109 [==============================] - 64s 591ms/step - loss: 0.6402 - recall_2: 0.7603 - precision_2: 0.8183 - auc_2: 0.9318 - val_loss: 0.7489 - val_recall_2: 0.6663 - val_precision_2: 0.7721 - val_auc_2: 0.8897\n",
      "Epoch 11/30\n",
      "109/109 [==============================] - 65s 593ms/step - loss: 0.6201 - recall_2: 0.7801 - precision_2: 0.8313 - auc_2: 0.9389 - val_loss: 0.8255 - val_recall_2: 0.6376 - val_precision_2: 0.7438 - val_auc_2: 0.8691\n",
      "Epoch 12/30\n",
      "109/109 [==============================] - 66s 602ms/step - loss: 0.6227 - recall_2: 0.7761 - precision_2: 0.8266 - auc_2: 0.9383 - val_loss: 0.7708 - val_recall_2: 0.6611 - val_precision_2: 0.7541 - val_auc_2: 0.8851\n",
      "Training EfficientNetB1\n",
      "## Fold: 0 ## \n",
      "\n",
      "Found 3488 validated image filenames belonging to 3 classes.\n",
      "Found 1744 validated image filenames belonging to 3 classes.\n",
      "Downloading data from https://github.com/Callidior/keras-applications/releases/download/efficientnet/efficientnet-b1_weights_tf_dim_ordering_tf_kernels_autoaugment_notop.h5\n",
      "27164672/27164032 [==============================] - 2s 0us/step\n",
      "Epoch 1/30\n",
      "109/109 [==============================] - 69s 635ms/step - loss: 0.9079 - recall_3: 0.4349 - precision_3: 0.6997 - auc_3: 0.7921 - val_loss: 1.0183 - val_recall_3: 0.3142 - val_precision_3: 0.5535 - val_auc_3: 0.6885\n",
      "Epoch 2/30\n",
      "109/109 [==============================] - 68s 625ms/step - loss: 0.7875 - recall_3: 0.6241 - precision_3: 0.7435 - auc_3: 0.8669 - val_loss: 0.8726 - val_recall_3: 0.5138 - val_precision_3: 0.7162 - val_auc_3: 0.8133\n",
      "Epoch 3/30\n",
      "109/109 [==============================] - 69s 629ms/step - loss: 0.7501 - recall_3: 0.6703 - precision_3: 0.7673 - auc_3: 0.8863 - val_loss: 0.7689 - val_recall_3: 0.5522 - val_precision_3: 0.8005 - val_auc_3: 0.8809\n",
      "Epoch 4/30\n",
      "109/109 [==============================] - 66s 608ms/step - loss: 0.7305 - recall_3: 0.6835 - precision_3: 0.7713 - auc_3: 0.8952 - val_loss: 0.7139 - val_recall_3: 0.6519 - val_precision_3: 0.7934 - val_auc_3: 0.9069\n",
      "Epoch 5/30\n",
      "109/109 [==============================] - 66s 607ms/step - loss: 0.7145 - recall_3: 0.7001 - precision_3: 0.7789 - auc_3: 0.9025 - val_loss: 0.8936 - val_recall_3: 0.4627 - val_precision_3: 0.6593 - val_auc_3: 0.8045\n",
      "Epoch 6/30\n",
      "109/109 [==============================] - 67s 612ms/step - loss: 0.6974 - recall_3: 0.7036 - precision_3: 0.7823 - auc_3: 0.9096 - val_loss: 0.6965 - val_recall_3: 0.7231 - val_precision_3: 0.8115 - val_auc_3: 0.9134\n",
      "Epoch 7/30\n",
      "109/109 [==============================] - 67s 612ms/step - loss: 0.6941 - recall_3: 0.7219 - precision_3: 0.7876 - auc_3: 0.9102 - val_loss: 0.6738 - val_recall_3: 0.7546 - val_precision_3: 0.8123 - val_auc_3: 0.9247\n",
      "Epoch 8/30\n",
      "109/109 [==============================] - 66s 610ms/step - loss: 0.6711 - recall_3: 0.7348 - precision_3: 0.7967 - auc_3: 0.9195 - val_loss: 0.7690 - val_recall_3: 0.6542 - val_precision_3: 0.7699 - val_auc_3: 0.8873\n",
      "Epoch 9/30\n",
      "109/109 [==============================] - 68s 622ms/step - loss: 0.6545 - recall_3: 0.7466 - precision_3: 0.8074 - auc_3: 0.9263 - val_loss: 0.7042 - val_recall_3: 0.7007 - val_precision_3: 0.8061 - val_auc_3: 0.9097\n",
      "Epoch 10/30\n",
      "109/109 [==============================] - 67s 614ms/step - loss: 0.6440 - recall_3: 0.7537 - precision_3: 0.8129 - auc_3: 0.9300 - val_loss: 0.7386 - val_recall_3: 0.6990 - val_precision_3: 0.7804 - val_auc_3: 0.8940\n",
      "Epoch 11/30\n",
      "109/109 [==============================] - 67s 611ms/step - loss: 0.6347 - recall_3: 0.7646 - precision_3: 0.8173 - auc_3: 0.9334 - val_loss: 0.7568 - val_recall_3: 0.6829 - val_precision_3: 0.7724 - val_auc_3: 0.8874\n",
      "Epoch 12/30\n",
      "109/109 [==============================] - 67s 617ms/step - loss: 0.6269 - recall_3: 0.7695 - precision_3: 0.8163 - auc_3: 0.9367 - val_loss: 0.8143 - val_recall_3: 0.6514 - val_precision_3: 0.7377 - val_auc_3: 0.8695\n",
      "Epoch 13/30\n",
      "109/109 [==============================] - 66s 608ms/step - loss: 0.6272 - recall_3: 0.7649 - precision_3: 0.8174 - auc_3: 0.9367 - val_loss: 0.7548 - val_recall_3: 0.6749 - val_precision_3: 0.7805 - val_auc_3: 0.8906\n",
      "Epoch 14/30\n",
      "109/109 [==============================] - 67s 614ms/step - loss: 0.6261 - recall_3: 0.7781 - precision_3: 0.8237 - auc_3: 0.9368 - val_loss: 0.8117 - val_recall_3: 0.6388 - val_precision_3: 0.7343 - val_auc_3: 0.8659\n",
      "## Fold: 1 ## \n",
      "\n",
      "Found 3488 validated image filenames belonging to 3 classes.\n",
      "Found 1744 validated image filenames belonging to 3 classes.\n",
      "Epoch 1/30\n",
      "109/109 [==============================] - 69s 636ms/step - loss: 0.8828 - recall_4: 0.4607 - precision_4: 0.7171 - auc_4: 0.8086 - val_loss: 0.8086 - val_recall_4: 0.5791 - val_precision_4: 0.7640 - val_auc_4: 0.8559\n",
      "Epoch 2/30\n",
      "109/109 [==============================] - 67s 611ms/step - loss: 0.7661 - recall_4: 0.6454 - precision_4: 0.7631 - auc_4: 0.8791 - val_loss: 0.7817 - val_recall_4: 0.6382 - val_precision_4: 0.7582 - val_auc_4: 0.8668\n",
      "Epoch 3/30\n",
      "109/109 [==============================] - 67s 617ms/step - loss: 0.7307 - recall_4: 0.6843 - precision_4: 0.7678 - auc_4: 0.8949 - val_loss: 0.7534 - val_recall_4: 0.6588 - val_precision_4: 0.7539 - val_auc_4: 0.8807\n",
      "Epoch 4/30\n",
      "109/109 [==============================] - 67s 611ms/step - loss: 0.7109 - recall_4: 0.7030 - precision_4: 0.7792 - auc_4: 0.9041 - val_loss: 0.7303 - val_recall_4: 0.6697 - val_precision_4: 0.7892 - val_auc_4: 0.8942\n",
      "Epoch 5/30\n",
      "109/109 [==============================] - 68s 621ms/step - loss: 0.7043 - recall_4: 0.7188 - precision_4: 0.7839 - auc_4: 0.9063 - val_loss: 0.8025 - val_recall_4: 0.6439 - val_precision_4: 0.7542 - val_auc_4: 0.8643\n",
      "Epoch 6/30\n",
      "109/109 [==============================] - 67s 616ms/step - loss: 0.6962 - recall_4: 0.7176 - precision_4: 0.7859 - auc_4: 0.9098 - val_loss: 0.8232 - val_recall_4: 0.6835 - val_precision_4: 0.7568 - val_auc_4: 0.8671\n",
      "Epoch 7/30\n",
      "109/109 [==============================] - 68s 620ms/step - loss: 0.6685 - recall_4: 0.7423 - precision_4: 0.8070 - auc_4: 0.9209 - val_loss: 0.7666 - val_recall_4: 0.7139 - val_precision_4: 0.7728 - val_auc_4: 0.8916\n",
      "Epoch 8/30\n",
      "109/109 [==============================] - 67s 615ms/step - loss: 0.6601 - recall_4: 0.7514 - precision_4: 0.8085 - auc_4: 0.9237 - val_loss: 0.7381 - val_recall_4: 0.7030 - val_precision_4: 0.7779 - val_auc_4: 0.8993\n",
      "Epoch 9/30\n",
      "109/109 [==============================] - 67s 618ms/step - loss: 0.6451 - recall_4: 0.7572 - precision_4: 0.8062 - auc_4: 0.9298 - val_loss: 0.7309 - val_recall_4: 0.7276 - val_precision_4: 0.7907 - val_auc_4: 0.9005\n",
      "Epoch 10/30\n",
      "109/109 [==============================] - 67s 613ms/step - loss: 0.6340 - recall_4: 0.7640 - precision_4: 0.8203 - auc_4: 0.9340 - val_loss: 0.7535 - val_recall_4: 0.7173 - val_precision_4: 0.7741 - val_auc_4: 0.8925\n",
      "Epoch 11/30\n",
      "109/109 [==============================] - 67s 615ms/step - loss: 0.6245 - recall_4: 0.7706 - precision_4: 0.8205 - auc_4: 0.9373 - val_loss: 0.7674 - val_recall_4: 0.7018 - val_precision_4: 0.7660 - val_auc_4: 0.8831\n",
      "## Fold: 2 ## \n",
      "\n",
      "Found 3488 validated image filenames belonging to 3 classes.\n",
      "Found 1744 validated image filenames belonging to 3 classes.\n",
      "Epoch 1/30\n",
      "109/109 [==============================] - 70s 645ms/step - loss: 0.9001 - recall_5: 0.4567 - precision_5: 0.7108 - auc_5: 0.7976 - val_loss: 0.9210 - val_recall_5: 0.3784 - val_precision_5: 0.7006 - val_auc_5: 0.7765\n",
      "Epoch 2/30\n",
      "109/109 [==============================] - 67s 619ms/step - loss: 0.7694 - recall_5: 0.6471 - precision_5: 0.7602 - auc_5: 0.8771 - val_loss: 0.8374 - val_recall_5: 0.5321 - val_precision_5: 0.7216 - val_auc_5: 0.8373\n",
      "Epoch 3/30\n",
      "109/109 [==============================] - 68s 621ms/step - loss: 0.7374 - recall_5: 0.6786 - precision_5: 0.7733 - auc_5: 0.8933 - val_loss: 0.7494 - val_recall_5: 0.6800 - val_precision_5: 0.7696 - val_auc_5: 0.8851\n",
      "Epoch 4/30\n",
      "109/109 [==============================] - 67s 614ms/step - loss: 0.7294 - recall_5: 0.6941 - precision_5: 0.7787 - auc_5: 0.8963 - val_loss: 0.7615 - val_recall_5: 0.7093 - val_precision_5: 0.7678 - val_auc_5: 0.8942\n",
      "Epoch 5/30\n",
      "109/109 [==============================] - 68s 623ms/step - loss: 0.7048 - recall_5: 0.7104 - precision_5: 0.7882 - auc_5: 0.9079 - val_loss: 0.7451 - val_recall_5: 0.6370 - val_precision_5: 0.7902 - val_auc_5: 0.8892\n",
      "Epoch 6/30\n",
      "109/109 [==============================] - 68s 626ms/step - loss: 0.6935 - recall_5: 0.7288 - precision_5: 0.7949 - auc_5: 0.9121 - val_loss: 0.6872 - val_recall_5: 0.7116 - val_precision_5: 0.7825 - val_auc_5: 0.9138\n",
      "Epoch 7/30\n",
      "109/109 [==============================] - 67s 619ms/step - loss: 0.6823 - recall_5: 0.7331 - precision_5: 0.8008 - auc_5: 0.9158 - val_loss: 0.8538 - val_recall_5: 0.6468 - val_precision_5: 0.7249 - val_auc_5: 0.8658\n",
      "Epoch 8/30\n",
      "109/109 [==============================] - 68s 622ms/step - loss: 0.6592 - recall_5: 0.7420 - precision_5: 0.8103 - auc_5: 0.9249 - val_loss: 0.7402 - val_recall_5: 0.7190 - val_precision_5: 0.7872 - val_auc_5: 0.9027\n",
      "Epoch 9/30\n",
      "109/109 [==============================] - 68s 627ms/step - loss: 0.6450 - recall_5: 0.7606 - precision_5: 0.8153 - auc_5: 0.9303 - val_loss: 0.9098 - val_recall_5: 0.6233 - val_precision_5: 0.7036 - val_auc_5: 0.8354\n",
      "Epoch 10/30\n",
      "109/109 [==============================] - 68s 623ms/step - loss: 0.6403 - recall_5: 0.7609 - precision_5: 0.8209 - auc_5: 0.9318 - val_loss: 0.7554 - val_recall_5: 0.6875 - val_precision_5: 0.7730 - val_auc_5: 0.8907\n",
      "Epoch 11/30\n",
      "109/109 [==============================] - 68s 623ms/step - loss: 0.6278 - recall_5: 0.7718 - precision_5: 0.8192 - auc_5: 0.9362 - val_loss: 0.8141 - val_recall_5: 0.6669 - val_precision_5: 0.7528 - val_auc_5: 0.8703\n",
      "Epoch 12/30\n",
      "109/109 [==============================] - 68s 627ms/step - loss: 0.6255 - recall_5: 0.7724 - precision_5: 0.8231 - auc_5: 0.9372 - val_loss: 0.8203 - val_recall_5: 0.6548 - val_precision_5: 0.7484 - val_auc_5: 0.8644\n",
      "Epoch 13/30\n",
      "109/109 [==============================] - 69s 630ms/step - loss: 0.6245 - recall_5: 0.7764 - precision_5: 0.8256 - auc_5: 0.9373 - val_loss: 0.7704 - val_recall_5: 0.6829 - val_precision_5: 0.7664 - val_auc_5: 0.8834\n",
      "Training ResNet50V2\n",
      "## Fold: 0 ## \n",
      "\n",
      "Found 3488 validated image filenames belonging to 3 classes.\n",
      "Found 1744 validated image filenames belonging to 3 classes.\n",
      "Downloading data from https://storage.googleapis.com/tensorflow/keras-applications/resnet/resnet50v2_weights_tf_dim_ordering_tf_kernels_notop.h5\n",
      "94674944/94668760 [==============================] - 2s 0us/step\n",
      "Epoch 1/30\n",
      "109/109 [==============================] - 66s 610ms/step - loss: 0.9164 - recall_6: 0.5069 - precision_6: 0.6558 - auc_6: 0.7928 - val_loss: 0.7988 - val_recall_6: 0.6950 - val_precision_6: 0.7328 - val_auc_6: 0.8840\n",
      "Epoch 2/30\n",
      "109/109 [==============================] - 66s 610ms/step - loss: 0.8021 - recall_6: 0.6003 - precision_6: 0.7345 - auc_6: 0.8585 - val_loss: 0.7166 - val_recall_6: 0.7477 - val_precision_6: 0.7846 - val_auc_6: 0.9123\n",
      "Epoch 3/30\n",
      "109/109 [==============================] - 67s 618ms/step - loss: 0.7524 - recall_6: 0.6445 - precision_6: 0.7531 - auc_6: 0.8834 - val_loss: 1.1177 - val_recall_6: 0.5023 - val_precision_6: 0.6008 - val_auc_6: 0.7588\n",
      "Epoch 4/30\n",
      "109/109 [==============================] - 67s 610ms/step - loss: 0.7268 - recall_6: 0.6809 - precision_6: 0.7749 - auc_6: 0.8952 - val_loss: 1.6801 - val_recall_6: 0.5350 - val_precision_6: 0.5547 - val_auc_6: 0.7264\n",
      "Epoch 5/30\n",
      "109/109 [==============================] - 67s 615ms/step - loss: 0.7338 - recall_6: 0.6746 - precision_6: 0.7650 - auc_6: 0.8921 - val_loss: 0.8611 - val_recall_6: 0.6869 - val_precision_6: 0.7296 - val_auc_6: 0.8817\n",
      "Epoch 6/30\n",
      "109/109 [==============================] - 66s 606ms/step - loss: 0.7168 - recall_6: 0.6927 - precision_6: 0.7763 - auc_6: 0.8997 - val_loss: 0.7390 - val_recall_6: 0.6755 - val_precision_6: 0.7330 - val_auc_6: 0.8950\n",
      "Epoch 7/30\n",
      "109/109 [==============================] - 66s 609ms/step - loss: 0.7038 - recall_6: 0.6993 - precision_6: 0.7870 - auc_6: 0.9056 - val_loss: 0.7611 - val_recall_6: 0.7202 - val_precision_6: 0.7539 - val_auc_6: 0.9140\n",
      "Epoch 8/30\n",
      "109/109 [==============================] - 65s 593ms/step - loss: 0.6944 - recall_6: 0.7170 - precision_6: 0.7902 - auc_6: 0.9092 - val_loss: 0.6842 - val_recall_6: 0.7064 - val_precision_6: 0.7928 - val_auc_6: 0.9146\n",
      "Epoch 9/30\n",
      "109/109 [==============================] - 65s 601ms/step - loss: 0.6832 - recall_6: 0.7291 - precision_6: 0.7967 - auc_6: 0.9137 - val_loss: 0.6758 - val_recall_6: 0.7408 - val_precision_6: 0.8060 - val_auc_6: 0.9193\n",
      "Epoch 10/30\n",
      "109/109 [==============================] - 66s 607ms/step - loss: 0.6692 - recall_6: 0.7339 - precision_6: 0.8023 - auc_6: 0.9199 - val_loss: 0.8266 - val_recall_6: 0.6617 - val_precision_6: 0.7163 - val_auc_6: 0.8718\n",
      "Epoch 11/30\n",
      "109/109 [==============================] - 66s 610ms/step - loss: 0.6586 - recall_6: 0.7448 - precision_6: 0.8009 - auc_6: 0.9240 - val_loss: 0.6716 - val_recall_6: 0.7282 - val_precision_6: 0.7933 - val_auc_6: 0.9188\n",
      "Epoch 12/30\n",
      "109/109 [==============================] - 67s 614ms/step - loss: 0.6463 - recall_6: 0.7577 - precision_6: 0.8120 - auc_6: 0.9280 - val_loss: 0.8469 - val_recall_6: 0.6273 - val_precision_6: 0.7081 - val_auc_6: 0.8483\n",
      "Epoch 13/30\n",
      "109/109 [==============================] - 67s 617ms/step - loss: 0.6464 - recall_6: 0.7540 - precision_6: 0.8070 - auc_6: 0.9289 - val_loss: 1.0801 - val_recall_6: 0.5298 - val_precision_6: 0.6206 - val_auc_6: 0.7336\n",
      "Epoch 14/30\n",
      "109/109 [==============================] - 65s 594ms/step - loss: 0.6333 - recall_6: 0.7683 - precision_6: 0.8153 - auc_6: 0.9335 - val_loss: 0.7627 - val_recall_6: 0.6984 - val_precision_6: 0.7641 - val_auc_6: 0.8871\n",
      "Epoch 15/30\n",
      "109/109 [==============================] - 66s 609ms/step - loss: 0.6299 - recall_6: 0.7586 - precision_6: 0.8094 - auc_6: 0.9346 - val_loss: 0.9306 - val_recall_6: 0.6175 - val_precision_6: 0.6935 - val_auc_6: 0.8204\n",
      "Epoch 16/30\n",
      "109/109 [==============================] - 67s 613ms/step - loss: 0.6259 - recall_6: 0.7706 - precision_6: 0.8165 - auc_6: 0.9361 - val_loss: 1.0739 - val_recall_6: 0.5103 - val_precision_6: 0.5977 - val_auc_6: 0.7388\n",
      "Epoch 17/30\n",
      "109/109 [==============================] - 68s 622ms/step - loss: 0.6137 - recall_6: 0.7775 - precision_6: 0.8226 - auc_6: 0.9406 - val_loss: 0.7229 - val_recall_6: 0.7288 - val_precision_6: 0.7885 - val_auc_6: 0.8976\n",
      "Epoch 18/30\n",
      "109/109 [==============================] - 67s 615ms/step - loss: 0.6140 - recall_6: 0.7784 - precision_6: 0.8207 - auc_6: 0.9403 - val_loss: 0.6680 - val_recall_6: 0.7500 - val_precision_6: 0.7947 - val_auc_6: 0.9189\n",
      "Epoch 19/30\n",
      "109/109 [==============================] - 67s 611ms/step - loss: 0.6078 - recall_6: 0.7867 - precision_6: 0.8263 - auc_6: 0.9421 - val_loss: 0.6415 - val_recall_6: 0.7706 - val_precision_6: 0.8072 - val_auc_6: 0.9312\n",
      "Epoch 20/30\n",
      "109/109 [==============================] - 65s 599ms/step - loss: 0.6085 - recall_6: 0.7830 - precision_6: 0.8251 - auc_6: 0.9423 - val_loss: 0.6809 - val_recall_6: 0.7385 - val_precision_6: 0.7926 - val_auc_6: 0.9140\n",
      "Epoch 21/30\n",
      "109/109 [==============================] - 68s 625ms/step - loss: 0.6039 - recall_6: 0.7864 - precision_6: 0.8282 - auc_6: 0.9437 - val_loss: 0.7011 - val_recall_6: 0.7265 - val_precision_6: 0.7826 - val_auc_6: 0.9070\n",
      "Epoch 22/30\n",
      "109/109 [==============================] - 68s 623ms/step - loss: 0.6001 - recall_6: 0.7890 - precision_6: 0.8297 - auc_6: 0.9450 - val_loss: 0.7638 - val_recall_6: 0.6743 - val_precision_6: 0.7378 - val_auc_6: 0.8820\n",
      "Epoch 23/30\n",
      "109/109 [==============================] - 68s 625ms/step - loss: 0.6011 - recall_6: 0.7939 - precision_6: 0.8278 - auc_6: 0.9446 - val_loss: 0.7705 - val_recall_6: 0.6766 - val_precision_6: 0.7426 - val_auc_6: 0.8812\n",
      "Epoch 24/30\n",
      "109/109 [==============================] - 68s 623ms/step - loss: 0.6043 - recall_6: 0.7858 - precision_6: 0.8239 - auc_6: 0.9437 - val_loss: 0.7448 - val_recall_6: 0.6961 - val_precision_6: 0.7536 - val_auc_6: 0.8906\n",
      "Epoch 25/30\n",
      "109/109 [==============================] - 68s 620ms/step - loss: 0.5962 - recall_6: 0.7887 - precision_6: 0.8274 - auc_6: 0.9466 - val_loss: 0.6834 - val_recall_6: 0.7466 - val_precision_6: 0.7963 - val_auc_6: 0.9134\n",
      "Epoch 26/30\n",
      "109/109 [==============================] - 66s 606ms/step - loss: 0.6017 - recall_6: 0.7899 - precision_6: 0.8291 - auc_6: 0.9445 - val_loss: 0.8479 - val_recall_6: 0.6267 - val_precision_6: 0.6866 - val_auc_6: 0.8480\n",
      "## Fold: 1 ## \n",
      "\n",
      "Found 3488 validated image filenames belonging to 3 classes.\n",
      "Found 1744 validated image filenames belonging to 3 classes.\n",
      "Epoch 1/30\n",
      "109/109 [==============================] - 69s 634ms/step - loss: 0.8806 - recall_7: 0.5556 - precision_7: 0.6841 - auc_7: 0.8216 - val_loss: 0.8152 - val_recall_7: 0.6445 - val_precision_7: 0.7060 - val_auc_7: 0.8625\n",
      "Epoch 2/30\n",
      "109/109 [==============================] - 68s 625ms/step - loss: 0.7847 - recall_7: 0.6247 - precision_7: 0.7455 - auc_7: 0.8680 - val_loss: 0.7527 - val_recall_7: 0.6852 - val_precision_7: 0.7358 - val_auc_7: 0.8949\n",
      "Epoch 3/30\n",
      "109/109 [==============================] - 68s 624ms/step - loss: 0.7383 - recall_7: 0.6694 - precision_7: 0.7706 - auc_7: 0.8911 - val_loss: 0.7804 - val_recall_7: 0.7007 - val_precision_7: 0.7282 - val_auc_7: 0.8871\n",
      "Epoch 4/30\n",
      "109/109 [==============================] - 66s 604ms/step - loss: 0.7315 - recall_7: 0.6798 - precision_7: 0.7764 - auc_7: 0.8937 - val_loss: 0.8391 - val_recall_7: 0.6875 - val_precision_7: 0.7329 - val_auc_7: 0.8941\n",
      "Epoch 5/30\n",
      "109/109 [==============================] - 68s 620ms/step - loss: 0.7108 - recall_7: 0.6932 - precision_7: 0.7835 - auc_7: 0.9025 - val_loss: 0.7913 - val_recall_7: 0.7425 - val_precision_7: 0.7658 - val_auc_7: 0.8968\n",
      "Epoch 6/30\n",
      "109/109 [==============================] - 69s 629ms/step - loss: 0.7181 - recall_7: 0.6929 - precision_7: 0.7725 - auc_7: 0.8989 - val_loss: 0.7238 - val_recall_7: 0.7529 - val_precision_7: 0.7774 - val_auc_7: 0.9111\n",
      "Epoch 7/30\n",
      "109/109 [==============================] - 68s 627ms/step - loss: 0.6931 - recall_7: 0.7170 - precision_7: 0.7910 - auc_7: 0.9100 - val_loss: 0.7820 - val_recall_7: 0.6829 - val_precision_7: 0.7500 - val_auc_7: 0.8836\n",
      "Epoch 8/30\n",
      "109/109 [==============================] - 69s 629ms/step - loss: 0.6790 - recall_7: 0.7331 - precision_7: 0.7941 - auc_7: 0.9157 - val_loss: 0.6785 - val_recall_7: 0.7764 - val_precision_7: 0.7969 - val_auc_7: 0.9234\n",
      "Epoch 9/30\n",
      "109/109 [==============================] - 68s 626ms/step - loss: 0.6743 - recall_7: 0.7362 - precision_7: 0.8000 - auc_7: 0.9176 - val_loss: 0.6587 - val_recall_7: 0.7695 - val_precision_7: 0.7979 - val_auc_7: 0.9243\n",
      "Epoch 10/30\n",
      "109/109 [==============================] - 66s 608ms/step - loss: 0.6477 - recall_7: 0.7606 - precision_7: 0.8108 - auc_7: 0.9284 - val_loss: 0.6854 - val_recall_7: 0.7586 - val_precision_7: 0.7965 - val_auc_7: 0.9120\n",
      "Epoch 11/30\n",
      "109/109 [==============================] - 68s 628ms/step - loss: 0.6423 - recall_7: 0.7520 - precision_7: 0.8039 - auc_7: 0.9303 - val_loss: 1.0595 - val_recall_7: 0.5780 - val_precision_7: 0.6474 - val_auc_7: 0.7593\n",
      "Epoch 12/30\n",
      "109/109 [==============================] - 68s 627ms/step - loss: 0.6372 - recall_7: 0.7600 - precision_7: 0.8100 - auc_7: 0.9319 - val_loss: 0.9946 - val_recall_7: 0.6428 - val_precision_7: 0.6856 - val_auc_7: 0.8221\n",
      "Epoch 13/30\n",
      "109/109 [==============================] - 70s 640ms/step - loss: 0.6286 - recall_7: 0.7715 - precision_7: 0.8172 - auc_7: 0.9354 - val_loss: 0.7024 - val_recall_7: 0.7213 - val_precision_7: 0.7823 - val_auc_7: 0.9085\n",
      "Epoch 14/30\n",
      "109/109 [==============================] - 68s 627ms/step - loss: 0.6335 - recall_7: 0.7681 - precision_7: 0.8116 - auc_7: 0.9334 - val_loss: 0.7984 - val_recall_7: 0.7081 - val_precision_7: 0.7572 - val_auc_7: 0.8788\n",
      "Epoch 15/30\n",
      "109/109 [==============================] - 66s 605ms/step - loss: 0.6196 - recall_7: 0.7778 - precision_7: 0.8184 - auc_7: 0.9386 - val_loss: 0.8533 - val_recall_7: 0.6433 - val_precision_7: 0.7314 - val_auc_7: 0.8493\n",
      "Epoch 16/30\n",
      "109/109 [==============================] - 69s 633ms/step - loss: 0.6101 - recall_7: 0.7781 - precision_7: 0.8232 - auc_7: 0.9419 - val_loss: 0.9497 - val_recall_7: 0.6135 - val_precision_7: 0.6885 - val_auc_7: 0.7992\n",
      "## Fold: 2 ## \n",
      "\n",
      "Found 3488 validated image filenames belonging to 3 classes.\n",
      "Found 1744 validated image filenames belonging to 3 classes.\n",
      "Epoch 1/30\n",
      "109/109 [==============================] - 68s 622ms/step - loss: 0.8866 - recall_8: 0.5539 - precision_8: 0.6975 - auc_8: 0.8171 - val_loss: 0.8955 - val_recall_8: 0.6399 - val_precision_8: 0.7068 - val_auc_8: 0.8338\n",
      "Epoch 2/30\n",
      "109/109 [==============================] - 68s 624ms/step - loss: 0.7666 - recall_8: 0.6442 - precision_8: 0.7561 - auc_8: 0.8774 - val_loss: 0.7382 - val_recall_8: 0.7001 - val_precision_8: 0.7679 - val_auc_8: 0.8992\n",
      "Epoch 3/30\n",
      "109/109 [==============================] - 69s 630ms/step - loss: 0.7468 - recall_8: 0.6649 - precision_8: 0.7709 - auc_8: 0.8877 - val_loss: 0.7380 - val_recall_8: 0.7076 - val_precision_8: 0.7746 - val_auc_8: 0.8988\n",
      "Epoch 4/30\n",
      "109/109 [==============================] - 69s 636ms/step - loss: 0.7286 - recall_8: 0.6829 - precision_8: 0.7815 - auc_8: 0.8956 - val_loss: 1.3074 - val_recall_8: 0.5178 - val_precision_8: 0.5879 - val_auc_8: 0.7513\n",
      "Epoch 5/30\n",
      "109/109 [==============================] - 66s 607ms/step - loss: 0.7167 - recall_8: 0.6898 - precision_8: 0.7881 - auc_8: 0.9009 - val_loss: 0.9741 - val_recall_8: 0.5975 - val_precision_8: 0.6566 - val_auc_8: 0.8284\n",
      "Epoch 6/30\n",
      "109/109 [==============================] - 66s 606ms/step - loss: 0.7050 - recall_8: 0.7053 - precision_8: 0.7862 - auc_8: 0.9054 - val_loss: 0.8152 - val_recall_8: 0.6164 - val_precision_8: 0.6847 - val_auc_8: 0.8595\n",
      "Epoch 7/30\n",
      "109/109 [==============================] - 67s 611ms/step - loss: 0.6902 - recall_8: 0.7216 - precision_8: 0.7945 - auc_8: 0.9120 - val_loss: 0.9610 - val_recall_8: 0.5757 - val_precision_8: 0.6457 - val_auc_8: 0.8141\n",
      "Epoch 8/30\n",
      "109/109 [==============================] - 68s 621ms/step - loss: 0.6734 - recall_8: 0.7420 - precision_8: 0.8015 - auc_8: 0.9181 - val_loss: 0.7136 - val_recall_8: 0.7162 - val_precision_8: 0.7743 - val_auc_8: 0.9022\n",
      "Epoch 9/30\n",
      "109/109 [==============================] - 67s 615ms/step - loss: 0.6635 - recall_8: 0.7417 - precision_8: 0.8032 - auc_8: 0.9222 - val_loss: 0.7289 - val_recall_8: 0.7150 - val_precision_8: 0.7912 - val_auc_8: 0.9025\n",
      "Epoch 10/30\n",
      "109/109 [==============================] - 66s 609ms/step - loss: 0.6558 - recall_8: 0.7489 - precision_8: 0.8129 - auc_8: 0.9254 - val_loss: 1.1496 - val_recall_8: 0.4903 - val_precision_8: 0.5860 - val_auc_8: 0.7529\n",
      "Epoch 11/30\n",
      "109/109 [==============================] - 66s 606ms/step - loss: 0.6422 - recall_8: 0.7615 - precision_8: 0.8095 - auc_8: 0.9304 - val_loss: 0.7609 - val_recall_8: 0.6628 - val_precision_8: 0.7727 - val_auc_8: 0.8852\n",
      "Epoch 12/30\n",
      "109/109 [==============================] - 66s 605ms/step - loss: 0.6384 - recall_8: 0.7612 - precision_8: 0.8159 - auc_8: 0.9318 - val_loss: 0.6222 - val_recall_8: 0.7706 - val_precision_8: 0.8170 - val_auc_8: 0.9385\n",
      "Epoch 13/30\n",
      "109/109 [==============================] - 66s 605ms/step - loss: 0.6286 - recall_8: 0.7752 - precision_8: 0.8204 - auc_8: 0.9352 - val_loss: 0.7028 - val_recall_8: 0.7173 - val_precision_8: 0.7999 - val_auc_8: 0.9076\n",
      "Epoch 14/30\n",
      "109/109 [==============================] - 65s 600ms/step - loss: 0.6249 - recall_8: 0.7738 - precision_8: 0.8179 - auc_8: 0.9367 - val_loss: 1.1008 - val_recall_8: 0.5109 - val_precision_8: 0.6082 - val_auc_8: 0.7621\n",
      "Epoch 15/30\n",
      "109/109 [==============================] - 65s 600ms/step - loss: 0.6175 - recall_8: 0.7769 - precision_8: 0.8235 - auc_8: 0.9393 - val_loss: 0.8483 - val_recall_8: 0.6273 - val_precision_8: 0.7288 - val_auc_8: 0.8559\n",
      "Epoch 16/30\n",
      "109/109 [==============================] - 66s 606ms/step - loss: 0.6248 - recall_8: 0.7709 - precision_8: 0.8218 - auc_8: 0.9366 - val_loss: 0.9359 - val_recall_8: 0.5327 - val_precision_8: 0.6528 - val_auc_8: 0.8111\n",
      "Epoch 17/30\n",
      "109/109 [==============================] - 66s 602ms/step - loss: 0.6147 - recall_8: 0.7801 - precision_8: 0.8276 - auc_8: 0.9404 - val_loss: 0.8852 - val_recall_8: 0.5981 - val_precision_8: 0.6986 - val_auc_8: 0.8385\n",
      "Epoch 18/30\n",
      "109/109 [==============================] - 66s 606ms/step - loss: 0.5999 - recall_8: 0.7921 - precision_8: 0.8295 - auc_8: 0.9457 - val_loss: 0.8592 - val_recall_8: 0.6204 - val_precision_8: 0.7114 - val_auc_8: 0.8475\n",
      "Epoch 19/30\n",
      "109/109 [==============================] - 66s 608ms/step - loss: 0.6040 - recall_8: 0.7887 - precision_8: 0.8311 - auc_8: 0.9444 - val_loss: 0.9872 - val_recall_8: 0.5407 - val_precision_8: 0.6337 - val_auc_8: 0.7952\n",
      "Training VGG19\n",
      "## Fold: 0 ## \n",
      "\n",
      "Found 3488 validated image filenames belonging to 3 classes.\n",
      "Found 1744 validated image filenames belonging to 3 classes.\n",
      "Downloading data from https://storage.googleapis.com/tensorflow/keras-applications/vgg19/vgg19_weights_tf_dim_ordering_tf_kernels_notop.h5\n",
      "80142336/80134624 [==============================] - 1s 0us/step\n",
      "Epoch 1/30\n",
      "109/109 [==============================] - 67s 615ms/step - loss: 1.0325 - recall_9: 0.2649 - precision_9: 0.5546 - auc_9: 0.6767 - val_loss: 1.0086 - val_recall_9: 0.3234 - val_precision_9: 0.5975 - val_auc_9: 0.7079\n",
      "Epoch 2/30\n",
      "109/109 [==============================] - 66s 609ms/step - loss: 0.9903 - recall_9: 0.3675 - precision_9: 0.6254 - auc_9: 0.7166 - val_loss: 0.9944 - val_recall_9: 0.3079 - val_precision_9: 0.7316 - val_auc_9: 0.6984\n",
      "Epoch 3/30\n",
      "109/109 [==============================] - 68s 622ms/step - loss: 0.9595 - recall_9: 0.3727 - precision_9: 0.6566 - auc_9: 0.7419 - val_loss: 0.8679 - val_recall_9: 0.4100 - val_precision_9: 0.7763 - val_auc_9: 0.8419\n",
      "Epoch 4/30\n",
      "109/109 [==============================] - 66s 606ms/step - loss: 0.9216 - recall_9: 0.4507 - precision_9: 0.6729 - auc_9: 0.7728 - val_loss: 0.8537 - val_recall_9: 0.4518 - val_precision_9: 0.7756 - val_auc_9: 0.8484\n",
      "Epoch 5/30\n",
      "109/109 [==============================] - 66s 608ms/step - loss: 0.9199 - recall_9: 0.4421 - precision_9: 0.6725 - auc_9: 0.7737 - val_loss: 0.9011 - val_recall_9: 0.4192 - val_precision_9: 0.7259 - val_auc_9: 0.7919\n",
      "Epoch 6/30\n",
      "109/109 [==============================] - 66s 610ms/step - loss: 0.8908 - recall_9: 0.5006 - precision_9: 0.6762 - auc_9: 0.7968 - val_loss: 0.7902 - val_recall_9: 0.5860 - val_precision_9: 0.7548 - val_auc_9: 0.8642\n",
      "Epoch 7/30\n",
      "109/109 [==============================] - 67s 611ms/step - loss: 0.8974 - recall_9: 0.4682 - precision_9: 0.6882 - auc_9: 0.7941 - val_loss: 0.8016 - val_recall_9: 0.6084 - val_precision_9: 0.7174 - val_auc_9: 0.8558\n",
      "Epoch 8/30\n",
      "109/109 [==============================] - 67s 610ms/step - loss: 0.8710 - recall_9: 0.5146 - precision_9: 0.6928 - auc_9: 0.8115 - val_loss: 0.8434 - val_recall_9: 0.5711 - val_precision_9: 0.6989 - val_auc_9: 0.8315\n",
      "Epoch 9/30\n",
      "109/109 [==============================] - 67s 611ms/step - loss: 0.8484 - recall_9: 0.5516 - precision_9: 0.6991 - auc_9: 0.8267 - val_loss: 0.7866 - val_recall_9: 0.5872 - val_precision_9: 0.7469 - val_auc_9: 0.8619\n",
      "Epoch 10/30\n",
      "109/109 [==============================] - 67s 616ms/step - loss: 0.8468 - recall_9: 0.5399 - precision_9: 0.7000 - auc_9: 0.8263 - val_loss: 0.7720 - val_recall_9: 0.6021 - val_precision_9: 0.7394 - val_auc_9: 0.8711\n",
      "Epoch 11/30\n",
      "109/109 [==============================] - 67s 614ms/step - loss: 0.8254 - recall_9: 0.5654 - precision_9: 0.7129 - auc_9: 0.8402 - val_loss: 0.8404 - val_recall_9: 0.5080 - val_precision_9: 0.7054 - val_auc_9: 0.8291\n",
      "Epoch 12/30\n",
      "109/109 [==============================] - 66s 606ms/step - loss: 0.8028 - recall_9: 0.5806 - precision_9: 0.7292 - auc_9: 0.8524 - val_loss: 0.7687 - val_recall_9: 0.6112 - val_precision_9: 0.7203 - val_auc_9: 0.8686\n",
      "Epoch 13/30\n",
      "109/109 [==============================] - 67s 614ms/step - loss: 0.8016 - recall_9: 0.5912 - precision_9: 0.7356 - auc_9: 0.8538 - val_loss: 0.7945 - val_recall_9: 0.5206 - val_precision_9: 0.7473 - val_auc_9: 0.8568\n",
      "Epoch 14/30\n",
      "109/109 [==============================] - 67s 611ms/step - loss: 0.7832 - recall_9: 0.6072 - precision_9: 0.7408 - auc_9: 0.8637 - val_loss: 0.8033 - val_recall_9: 0.5464 - val_precision_9: 0.6655 - val_auc_9: 0.8457\n",
      "Epoch 15/30\n",
      "109/109 [==============================] - 67s 614ms/step - loss: 0.7836 - recall_9: 0.6064 - precision_9: 0.7385 - auc_9: 0.8631 - val_loss: 0.7283 - val_recall_9: 0.6565 - val_precision_9: 0.7784 - val_auc_9: 0.8942\n",
      "Epoch 16/30\n",
      "109/109 [==============================] - 67s 614ms/step - loss: 0.7732 - recall_9: 0.6282 - precision_9: 0.7445 - auc_9: 0.8693 - val_loss: 0.7235 - val_recall_9: 0.6606 - val_precision_9: 0.7747 - val_auc_9: 0.8954\n",
      "Epoch 17/30\n",
      "109/109 [==============================] - 67s 617ms/step - loss: 0.7647 - recall_9: 0.6399 - precision_9: 0.7525 - auc_9: 0.8743 - val_loss: 0.7322 - val_recall_9: 0.6686 - val_precision_9: 0.7503 - val_auc_9: 0.8913\n",
      "Epoch 18/30\n",
      "109/109 [==============================] - 67s 611ms/step - loss: 0.7455 - recall_9: 0.6577 - precision_9: 0.7644 - auc_9: 0.8841 - val_loss: 0.6955 - val_recall_9: 0.6950 - val_precision_9: 0.7835 - val_auc_9: 0.9080\n",
      "Epoch 19/30\n",
      "109/109 [==============================] - 67s 612ms/step - loss: 0.7452 - recall_9: 0.6574 - precision_9: 0.7603 - auc_9: 0.8843 - val_loss: 0.7069 - val_recall_9: 0.6909 - val_precision_9: 0.7860 - val_auc_9: 0.9044\n",
      "Epoch 20/30\n",
      "109/109 [==============================] - 67s 618ms/step - loss: 0.7348 - recall_9: 0.6626 - precision_9: 0.7612 - auc_9: 0.8896 - val_loss: 0.6870 - val_recall_9: 0.7196 - val_precision_9: 0.7844 - val_auc_9: 0.9123\n",
      "Epoch 21/30\n",
      "109/109 [==============================] - 67s 613ms/step - loss: 0.7384 - recall_9: 0.6757 - precision_9: 0.7695 - auc_9: 0.8883 - val_loss: 0.7003 - val_recall_9: 0.6938 - val_precision_9: 0.7817 - val_auc_9: 0.9061\n",
      "Epoch 22/30\n",
      "109/109 [==============================] - 67s 616ms/step - loss: 0.7350 - recall_9: 0.6680 - precision_9: 0.7697 - auc_9: 0.8901 - val_loss: 0.7162 - val_recall_9: 0.6995 - val_precision_9: 0.7786 - val_auc_9: 0.9020\n",
      "Epoch 23/30\n",
      "109/109 [==============================] - 67s 614ms/step - loss: 0.7294 - recall_9: 0.6881 - precision_9: 0.7777 - auc_9: 0.8923 - val_loss: 0.6734 - val_recall_9: 0.7328 - val_precision_9: 0.8008 - val_auc_9: 0.9174\n",
      "Epoch 24/30\n",
      "109/109 [==============================] - 67s 611ms/step - loss: 0.7324 - recall_9: 0.6823 - precision_9: 0.7725 - auc_9: 0.8904 - val_loss: 0.6803 - val_recall_9: 0.7265 - val_precision_9: 0.7954 - val_auc_9: 0.9151\n",
      "Epoch 25/30\n",
      "109/109 [==============================] - 66s 609ms/step - loss: 0.7222 - recall_9: 0.6935 - precision_9: 0.7711 - auc_9: 0.8957 - val_loss: 0.6736 - val_recall_9: 0.7208 - val_precision_9: 0.8027 - val_auc_9: 0.9177\n",
      "Epoch 26/30\n",
      "109/109 [==============================] - 66s 606ms/step - loss: 0.7204 - recall_9: 0.6952 - precision_9: 0.7830 - auc_9: 0.8962 - val_loss: 0.6832 - val_recall_9: 0.7294 - val_precision_9: 0.7920 - val_auc_9: 0.9148\n",
      "Epoch 27/30\n",
      "109/109 [==============================] - 66s 606ms/step - loss: 0.7150 - recall_9: 0.6970 - precision_9: 0.7797 - auc_9: 0.8988 - val_loss: 0.6742 - val_recall_9: 0.7374 - val_precision_9: 0.7978 - val_auc_9: 0.9179\n",
      "Epoch 28/30\n",
      "109/109 [==============================] - 67s 617ms/step - loss: 0.7171 - recall_9: 0.7010 - precision_9: 0.7777 - auc_9: 0.8978 - val_loss: 0.6992 - val_recall_9: 0.7236 - val_precision_9: 0.7853 - val_auc_9: 0.9100\n",
      "Epoch 29/30\n",
      "109/109 [==============================] - 66s 607ms/step - loss: 0.7182 - recall_9: 0.6944 - precision_9: 0.7694 - auc_9: 0.8968 - val_loss: 0.6813 - val_recall_9: 0.7288 - val_precision_9: 0.7969 - val_auc_9: 0.9142\n",
      "Epoch 30/30\n",
      "109/109 [==============================] - 66s 606ms/step - loss: 0.7117 - recall_9: 0.7007 - precision_9: 0.7866 - auc_9: 0.9008 - val_loss: 0.6986 - val_recall_9: 0.7236 - val_precision_9: 0.7868 - val_auc_9: 0.9096\n",
      "## Fold: 1 ## \n",
      "\n",
      "Found 3488 validated image filenames belonging to 3 classes.\n",
      "Found 1744 validated image filenames belonging to 3 classes.\n",
      "Epoch 1/30\n",
      "109/109 [==============================] - 67s 615ms/step - loss: 1.0628 - recall_10: 0.1835 - precision_10: 0.5083 - auc_10: 0.6217 - val_loss: 1.0585 - val_recall_10: 0.0000e+00 - val_precision_10: 0.0000e+00 - val_auc_10: 0.6251\n",
      "Epoch 2/30\n",
      "109/109 [==============================] - 66s 606ms/step - loss: 1.0575 - recall_10: 0.1250 - precision_10: 0.5203 - auc_10: 0.6292 - val_loss: 1.0624 - val_recall_10: 0.0000e+00 - val_precision_10: 0.0000e+00 - val_auc_10: 0.5720\n",
      "Epoch 3/30\n",
      "109/109 [==============================] - 66s 605ms/step - loss: 1.0631 - recall_10: 0.0645 - precision_10: 0.4500 - auc_10: 0.6103 - val_loss: 1.0590 - val_recall_10: 0.0000e+00 - val_precision_10: 0.0000e+00 - val_auc_10: 0.6285\n",
      "Epoch 4/30\n",
      "109/109 [==============================] - 66s 609ms/step - loss: 1.0602 - recall_10: 0.0020 - precision_10: 0.7778 - auc_10: 0.6155 - val_loss: 1.0500 - val_recall_10: 0.0774 - val_precision_10: 0.7105 - val_auc_10: 0.6758\n",
      "Epoch 5/30\n",
      "109/109 [==============================] - 67s 612ms/step - loss: 1.0558 - recall_10: 0.1021 - precision_10: 0.5615 - auc_10: 0.6338 - val_loss: 1.0608 - val_recall_10: 0.0000e+00 - val_precision_10: 0.0000e+00 - val_auc_10: 0.6112\n",
      "Epoch 6/30\n",
      "109/109 [==============================] - 67s 610ms/step - loss: 1.0618 - recall_10: 0.0439 - precision_10: 0.4796 - auc_10: 0.6115 - val_loss: 1.0595 - val_recall_10: 0.0000e+00 - val_precision_10: 0.0000e+00 - val_auc_10: 0.5955\n",
      "Epoch 7/30\n",
      "109/109 [==============================] - 66s 606ms/step - loss: 1.0596 - recall_10: 0.0000e+00 - precision_10: 0.0000e+00 - auc_10: 0.6111 - val_loss: 1.0587 - val_recall_10: 0.0000e+00 - val_precision_10: 0.0000e+00 - val_auc_10: 0.6141\n",
      "Epoch 8/30\n",
      "109/109 [==============================] - 63s 578ms/step - loss: 1.0592 - recall_10: 0.0000e+00 - precision_10: 0.0000e+00 - auc_10: 0.6126 - val_loss: 1.0583 - val_recall_10: 0.0000e+00 - val_precision_10: 0.0000e+00 - val_auc_10: 0.6583\n",
      "Epoch 9/30\n",
      "109/109 [==============================] - 66s 608ms/step - loss: 1.0599 - recall_10: 0.0533 - precision_10: 0.4844 - auc_10: 0.6141 - val_loss: 1.0610 - val_recall_10: 0.4845 - val_precision_10: 0.4862 - val_auc_10: 0.6133\n",
      "Epoch 10/30\n",
      "109/109 [==============================] - 66s 609ms/step - loss: 1.0591 - recall_10: 0.0034 - precision_10: 0.4138 - auc_10: 0.6188 - val_loss: 1.0585 - val_recall_10: 0.0000e+00 - val_precision_10: 0.0000e+00 - val_auc_10: 0.6326\n",
      "Epoch 11/30\n",
      "109/109 [==============================] - 67s 611ms/step - loss: 1.0586 - recall_10: 0.0000e+00 - precision_10: 0.0000e+00 - auc_10: 0.6180 - val_loss: 1.0574 - val_recall_10: 0.0000e+00 - val_precision_10: 0.0000e+00 - val_auc_10: 0.6354\n",
      "## Fold: 2 ## \n",
      "\n",
      "Found 3488 validated image filenames belonging to 3 classes.\n",
      "Found 1744 validated image filenames belonging to 3 classes.\n",
      "Epoch 1/30\n",
      "109/109 [==============================] - 66s 604ms/step - loss: 0.9831 - recall_11: 0.3549 - precision_11: 0.6294 - auc_11: 0.7261 - val_loss: 0.8747 - val_recall_11: 0.5384 - val_precision_11: 0.6650 - val_auc_11: 0.8104\n",
      "Epoch 2/30\n",
      "109/109 [==============================] - 67s 612ms/step - loss: 0.9119 - recall_11: 0.4736 - precision_11: 0.6759 - auc_11: 0.7812 - val_loss: 0.8820 - val_recall_11: 0.5470 - val_precision_11: 0.6863 - val_auc_11: 0.8095\n",
      "Epoch 3/30\n",
      "109/109 [==============================] - 67s 612ms/step - loss: 0.9127 - recall_11: 0.4504 - precision_11: 0.6763 - auc_11: 0.7812 - val_loss: 0.8429 - val_recall_11: 0.5298 - val_precision_11: 0.7064 - val_auc_11: 0.8349\n",
      "Epoch 4/30\n",
      "109/109 [==============================] - 67s 613ms/step - loss: 0.9182 - recall_11: 0.4673 - precision_11: 0.6683 - auc_11: 0.7773 - val_loss: 0.9442 - val_recall_11: 0.4019 - val_precision_11: 0.6721 - val_auc_11: 0.7545\n",
      "Epoch 5/30\n",
      "109/109 [==============================] - 67s 611ms/step - loss: 0.8947 - recall_11: 0.4785 - precision_11: 0.6793 - auc_11: 0.7953 - val_loss: 0.9236 - val_recall_11: 0.5063 - val_precision_11: 0.6639 - val_auc_11: 0.7786\n",
      "Epoch 6/30\n",
      "109/109 [==============================] - 66s 610ms/step - loss: 0.8886 - recall_11: 0.5011 - precision_11: 0.6817 - auc_11: 0.7987 - val_loss: 1.0181 - val_recall_11: 0.4117 - val_precision_11: 0.5685 - val_auc_11: 0.7204\n",
      "Epoch 7/30\n",
      "109/109 [==============================] - 67s 615ms/step - loss: 0.8704 - recall_11: 0.5163 - precision_11: 0.6970 - auc_11: 0.8123 - val_loss: 0.8216 - val_recall_11: 0.5097 - val_precision_11: 0.7359 - val_auc_11: 0.8421\n",
      "Epoch 8/30\n",
      "109/109 [==============================] - 68s 623ms/step - loss: 0.8400 - recall_11: 0.5522 - precision_11: 0.7097 - auc_11: 0.8312 - val_loss: 0.8692 - val_recall_11: 0.5751 - val_precision_11: 0.6908 - val_auc_11: 0.8241\n",
      "Epoch 9/30\n",
      "109/109 [==============================] - 67s 610ms/step - loss: 0.8243 - recall_11: 0.5636 - precision_11: 0.7115 - auc_11: 0.8396 - val_loss: 0.8228 - val_recall_11: 0.5757 - val_precision_11: 0.6997 - val_auc_11: 0.8406\n",
      "Epoch 10/30\n",
      "109/109 [==============================] - 67s 611ms/step - loss: 0.8090 - recall_11: 0.5708 - precision_11: 0.7177 - auc_11: 0.8491 - val_loss: 0.8220 - val_recall_11: 0.5877 - val_precision_11: 0.7030 - val_auc_11: 0.8468\n",
      "Epoch 11/30\n",
      "109/109 [==============================] - 67s 615ms/step - loss: 0.7938 - recall_11: 0.5846 - precision_11: 0.7396 - auc_11: 0.8589 - val_loss: 0.7919 - val_recall_11: 0.5510 - val_precision_11: 0.7725 - val_auc_11: 0.8660\n",
      "Epoch 12/30\n",
      "109/109 [==============================] - 67s 613ms/step - loss: 0.7826 - recall_11: 0.6044 - precision_11: 0.7523 - auc_11: 0.8668 - val_loss: 0.7619 - val_recall_11: 0.6623 - val_precision_11: 0.7456 - val_auc_11: 0.8774\n",
      "Epoch 13/30\n",
      "109/109 [==============================] - 67s 616ms/step - loss: 0.7809 - recall_11: 0.6196 - precision_11: 0.7413 - auc_11: 0.8659 - val_loss: 0.7716 - val_recall_11: 0.5986 - val_precision_11: 0.7762 - val_auc_11: 0.8797\n",
      "Epoch 14/30\n",
      "109/109 [==============================] - 67s 617ms/step - loss: 0.7505 - recall_11: 0.6425 - precision_11: 0.7669 - auc_11: 0.8833 - val_loss: 0.7694 - val_recall_11: 0.6606 - val_precision_11: 0.7310 - val_auc_11: 0.8738\n",
      "Epoch 15/30\n",
      "109/109 [==============================] - 67s 618ms/step - loss: 0.7452 - recall_11: 0.6600 - precision_11: 0.7666 - auc_11: 0.8856 - val_loss: 0.7846 - val_recall_11: 0.6560 - val_precision_11: 0.7190 - val_auc_11: 0.8729\n",
      "Epoch 16/30\n",
      "109/109 [==============================] - 67s 612ms/step - loss: 0.7345 - recall_11: 0.6823 - precision_11: 0.7715 - auc_11: 0.8897 - val_loss: 0.8089 - val_recall_11: 0.6858 - val_precision_11: 0.7262 - val_auc_11: 0.8721\n",
      "Epoch 17/30\n",
      "109/109 [==============================] - 64s 583ms/step - loss: 0.7207 - recall_11: 0.6895 - precision_11: 0.7788 - auc_11: 0.8975 - val_loss: 0.8347 - val_recall_11: 0.6823 - val_precision_11: 0.7346 - val_auc_11: 0.8759\n",
      "Epoch 18/30\n",
      "109/109 [==============================] - 68s 625ms/step - loss: 0.7221 - recall_11: 0.6975 - precision_11: 0.7783 - auc_11: 0.8960 - val_loss: 0.7595 - val_recall_11: 0.6915 - val_precision_11: 0.7542 - val_auc_11: 0.8813\n",
      "Epoch 19/30\n",
      "109/109 [==============================] - 68s 626ms/step - loss: 0.7171 - recall_11: 0.6952 - precision_11: 0.7792 - auc_11: 0.8985 - val_loss: 0.7526 - val_recall_11: 0.6823 - val_precision_11: 0.7494 - val_auc_11: 0.8856\n",
      "Epoch 20/30\n",
      "109/109 [==============================] - 68s 628ms/step - loss: 0.7097 - recall_11: 0.7076 - precision_11: 0.7893 - auc_11: 0.9010 - val_loss: 0.7540 - val_recall_11: 0.7013 - val_precision_11: 0.7444 - val_auc_11: 0.8892\n",
      "Epoch 21/30\n",
      "109/109 [==============================] - 69s 631ms/step - loss: 0.6994 - recall_11: 0.7196 - precision_11: 0.7891 - auc_11: 0.9059 - val_loss: 0.7170 - val_recall_11: 0.7299 - val_precision_11: 0.7720 - val_auc_11: 0.9013\n",
      "Epoch 22/30\n",
      "109/109 [==============================] - 70s 641ms/step - loss: 0.6999 - recall_11: 0.7196 - precision_11: 0.7858 - auc_11: 0.9062 - val_loss: 0.7258 - val_recall_11: 0.7185 - val_precision_11: 0.7631 - val_auc_11: 0.8979\n",
      "Epoch 23/30\n",
      "109/109 [==============================] - 69s 634ms/step - loss: 0.7058 - recall_11: 0.7099 - precision_11: 0.7828 - auc_11: 0.9031 - val_loss: 0.7210 - val_recall_11: 0.7231 - val_precision_11: 0.7661 - val_auc_11: 0.8996\n",
      "Epoch 24/30\n",
      "109/109 [==============================] - 69s 634ms/step - loss: 0.6905 - recall_11: 0.7199 - precision_11: 0.7909 - auc_11: 0.9098 - val_loss: 0.7420 - val_recall_11: 0.7076 - val_precision_11: 0.7646 - val_auc_11: 0.8924\n",
      "Epoch 25/30\n",
      "109/109 [==============================] - 69s 629ms/step - loss: 0.6927 - recall_11: 0.7271 - precision_11: 0.7842 - auc_11: 0.9091 - val_loss: 0.7241 - val_recall_11: 0.7213 - val_precision_11: 0.7643 - val_auc_11: 0.8980\n",
      "Epoch 26/30\n",
      "109/109 [==============================] - 69s 635ms/step - loss: 0.6928 - recall_11: 0.7262 - precision_11: 0.7930 - auc_11: 0.9088 - val_loss: 0.7295 - val_recall_11: 0.7133 - val_precision_11: 0.7665 - val_auc_11: 0.8960\n",
      "Epoch 27/30\n",
      "109/109 [==============================] - 69s 634ms/step - loss: 0.6910 - recall_11: 0.7302 - precision_11: 0.7944 - auc_11: 0.9098 - val_loss: 0.7279 - val_recall_11: 0.7236 - val_precision_11: 0.7621 - val_auc_11: 0.9007\n",
      "Epoch 28/30\n",
      "109/109 [==============================] - 68s 625ms/step - loss: 0.6894 - recall_11: 0.7328 - precision_11: 0.7965 - auc_11: 0.9102 - val_loss: 0.7281 - val_recall_11: 0.7133 - val_precision_11: 0.7585 - val_auc_11: 0.8983\n"
     ]
    }
   ],
   "source": [
    "valid_preds = pd.DataFrame()\n",
    "\n",
    "trained_models = []\n",
    "\n",
    "skf = StratifiedKFold(n_splits=FOLDS, shuffle=True, random_state=42)\n",
    "\n",
    "auc = {}\n",
    "\n",
    "for MODEL in MODELS:\n",
    "    \n",
    "    name = str(MODEL).split(' ')[1]\n",
    "    valid_preds[name] = np.zeros(len(train))\n",
    "    valid_preds['True'] = np.zeros(len(train))   \n",
    "    auc[name] = []\n",
    "    \n",
    "    print(f'Training {name}')\n",
    "    for idx, (train_idx, valid_idx) in enumerate(skf.split(train['Paths'], train['Labels'])):\n",
    "        print(f'## Fold: {idx} ##', '\\n')\n",
    "\n",
    "        train_paths, valid_paths = train['Paths'].iloc[train_idx], train['Paths'].iloc[valid_idx]\n",
    "        train_labels, valid_labels = train['Labels'].iloc[train_idx], train['Labels'].iloc[valid_idx]\n",
    "\n",
    "        train_per_fold = pd.DataFrame({'Paths': train_paths, 'Labels': train_labels})    \n",
    "        valid_per_fold = pd.DataFrame({'Paths': valid_paths, 'Labels': valid_labels})\n",
    "\n",
    "        traingen = train_generator.flow_from_dataframe(\n",
    "            dataframe=train_per_fold,\n",
    "            target_size=(IMG_SIZE, IMG_SIZE),\n",
    "            x_col='Paths',\n",
    "            y_col='Labels',\n",
    "            class_mode='categorical',\n",
    "            shuffle=True,\n",
    "            seed=42\n",
    "        )\n",
    "\n",
    "        validgen = val_generator.flow_from_dataframe(\n",
    "            dataframe=valid_per_fold,\n",
    "            target_size=(IMG_SIZE, IMG_SIZE),\n",
    "            x_col='Paths',\n",
    "            y_col='Labels',\n",
    "            class_mode='categorical',\n",
    "            shuffle=False\n",
    "        )\n",
    "    \n",
    "        model = build_model(Model=MODEL)\n",
    "        model.fit_generator(\n",
    "            traingen,\n",
    "            epochs=EPOCHS,\n",
    "            validation_data=(validgen),\n",
    "            callbacks=[es, lr_callback],\n",
    "        )\n",
    "        \n",
    "        y_pred = model.predict_generator(validgen)\n",
    "        \n",
    "        auc[name].append(metrics.roc_auc_score(validgen.labels, y_pred, multi_class='ovo'))\n",
    "        \n",
    "        valid_preds['True'].iloc[valid_idx] = validgen.labels\n",
    "        valid_preds[name].iloc[valid_idx] = np.argmax(y_pred, axis=1)\n",
    "        \n",
    "        trained_models.append(model)"
   ]
  },
  {
   "cell_type": "code",
   "execution_count": 14,
   "metadata": {
    "execution": {
     "iopub.execute_input": "2021-01-03T17:34:25.228400Z",
     "iopub.status.busy": "2021-01-03T17:34:25.227600Z",
     "iopub.status.idle": "2021-01-03T17:34:25.231129Z",
     "shell.execute_reply": "2021-01-03T17:34:25.230687Z"
    },
    "papermill": {
     "duration": 6.727314,
     "end_time": "2021-01-03T17:34:25.231226",
     "exception": false,
     "start_time": "2021-01-03T17:34:18.503912",
     "status": "completed"
    },
    "tags": []
   },
   "outputs": [],
   "source": [
    "def mapping(y):\n",
    "    '''\n",
    "    Normal -> 0\n",
    "    bacteria -> 1\n",
    "    virus -> 2\n",
    "    '''\n",
    "    \n",
    "    map_ = []\n",
    "    for idx, i in enumerate(y):\n",
    "        if i == 'Normal':\n",
    "            map_.insert(idx, 0)\n",
    "        elif i == 'bacteria':\n",
    "            map_.insert(idx, 1)\n",
    "        else:\n",
    "            map_.insert(idx, 2)\n",
    "            \n",
    "    return np.array(map_)"
   ]
  },
  {
   "cell_type": "code",
   "execution_count": 15,
   "metadata": {
    "execution": {
     "iopub.execute_input": "2021-01-03T17:34:38.342322Z",
     "iopub.status.busy": "2021-01-03T17:34:38.341455Z",
     "iopub.status.idle": "2021-01-03T17:35:46.081950Z",
     "shell.execute_reply": "2021-01-03T17:35:46.081415Z"
    },
    "papermill": {
     "duration": 74.447505,
     "end_time": "2021-01-03T17:35:46.082061",
     "exception": false,
     "start_time": "2021-01-03T17:34:31.634556",
     "status": "completed"
    },
    "tags": []
   },
   "outputs": [],
   "source": [
    "test_preds = pd.DataFrame({'True': testgen.labels})\n",
    "\n",
    "for i in range(len(NAMES)):\n",
    "    preds = np.zeros(len(testgen.labels))\n",
    "    for j in range(FOLDS*i, FOLDS*(i+1)):\n",
    "        preds += (1/FOLDS)*np.argmax(trained_models[j].predict_generator(testgen), axis=1)\n",
    "    test_preds[NAMES[i]] = np.round(preds)"
   ]
  },
  {
   "cell_type": "code",
   "execution_count": 16,
   "metadata": {
    "execution": {
     "iopub.execute_input": "2021-01-03T17:36:00.168014Z",
     "iopub.status.busy": "2021-01-03T17:36:00.167218Z",
     "iopub.status.idle": "2021-01-03T17:36:00.337044Z",
     "shell.execute_reply": "2021-01-03T17:36:00.336611Z"
    },
    "papermill": {
     "duration": 7.553056,
     "end_time": "2021-01-03T17:36:00.337143",
     "exception": false,
     "start_time": "2021-01-03T17:35:52.784087",
     "status": "completed"
    },
    "tags": []
   },
   "outputs": [],
   "source": [
    "## Stacking\n",
    "\n",
    "svm = SVC(kernel='linear', random_state=42)\n",
    "svm.fit(valid_preds.drop(columns='True').values, valid_preds['True'])\n",
    "\n",
    "final_preds = svm.predict(test_preds.drop(columns='True').values)"
   ]
  },
  {
   "cell_type": "code",
   "execution_count": 17,
   "metadata": {
    "execution": {
     "iopub.execute_input": "2021-01-03T17:36:14.170438Z",
     "iopub.status.busy": "2021-01-03T17:36:14.169609Z",
     "iopub.status.idle": "2021-01-03T17:36:14.208332Z",
     "shell.execute_reply": "2021-01-03T17:36:14.208804Z"
    },
    "papermill": {
     "duration": 6.699053,
     "end_time": "2021-01-03T17:36:14.208925",
     "exception": false,
     "start_time": "2021-01-03T17:36:07.509872",
     "status": "completed"
    },
    "tags": []
   },
   "outputs": [
    {
     "name": "stdout",
     "output_type": "stream",
     "text": [
      "EfficientNetB0: \n",
      "               precision    recall  f1-score   support\n",
      "\n",
      "           0       0.96      0.59      0.73       234\n",
      "           1       0.68      0.97      0.80       242\n",
      "           2       0.73      0.66      0.69       148\n",
      "\n",
      "    accuracy                           0.75       624\n",
      "   macro avg       0.79      0.74      0.74       624\n",
      "weighted avg       0.80      0.75      0.75       624\n",
      "\n",
      "EfficientNetB1: \n",
      "               precision    recall  f1-score   support\n",
      "\n",
      "           0       0.95      0.71      0.81       234\n",
      "           1       0.69      0.97      0.80       242\n",
      "           2       0.84      0.61      0.71       148\n",
      "\n",
      "    accuracy                           0.79       624\n",
      "   macro avg       0.83      0.76      0.77       624\n",
      "weighted avg       0.82      0.79      0.78       624\n",
      "\n",
      "ResNet50V2: \n",
      "               precision    recall  f1-score   support\n",
      "\n",
      "           0       0.97      0.71      0.82       234\n",
      "           1       0.76      0.98      0.85       242\n",
      "           2       0.77      0.74      0.76       148\n",
      "\n",
      "    accuracy                           0.82       624\n",
      "   macro avg       0.83      0.81      0.81       624\n",
      "weighted avg       0.84      0.82      0.82       624\n",
      "\n",
      "VGG19: \n",
      "               precision    recall  f1-score   support\n",
      "\n",
      "           0       0.96      0.74      0.84       234\n",
      "           1       0.80      0.97      0.88       242\n",
      "           2       0.74      0.74      0.74       148\n",
      "\n",
      "    accuracy                           0.83       624\n",
      "   macro avg       0.83      0.82      0.82       624\n",
      "weighted avg       0.84      0.83      0.83       624\n",
      "\n",
      "Ensemble: \n",
      "               precision    recall  f1-score   support\n",
      "\n",
      "           0       0.97      0.71      0.82       234\n",
      "           1       0.76      0.98      0.85       242\n",
      "           2       0.77      0.74      0.76       148\n",
      "\n",
      "    accuracy                           0.82       624\n",
      "   macro avg       0.83      0.81      0.81       624\n",
      "weighted avg       0.84      0.82      0.82       624\n",
      "\n"
     ]
    }
   ],
   "source": [
    "## Classification Report\n",
    "\n",
    "print('EfficientNetB0:', '\\n', metrics.classification_report(testgen.labels, test_preds['EfficientNetB0']))\n",
    "print('EfficientNetB1:', '\\n', metrics.classification_report(testgen.labels, test_preds['EfficientNetB1']))\n",
    "print('ResNet50V2:', '\\n', metrics.classification_report(testgen.labels, test_preds['ResNet50V2']))\n",
    "print('VGG19:', '\\n', metrics.classification_report(testgen.labels, test_preds['VGG19']))\n",
    "\n",
    "print('Ensemble:', '\\n', metrics.classification_report(testgen.labels, final_preds))"
   ]
  },
  {
   "cell_type": "code",
   "execution_count": 18,
   "metadata": {
    "execution": {
     "iopub.execute_input": "2021-01-03T17:36:27.569873Z",
     "iopub.status.busy": "2021-01-03T17:36:27.568766Z",
     "iopub.status.idle": "2021-01-03T17:36:28.362631Z",
     "shell.execute_reply": "2021-01-03T17:36:28.361544Z"
    },
    "papermill": {
     "duration": 7.687592,
     "end_time": "2021-01-03T17:36:28.362748",
     "exception": false,
     "start_time": "2021-01-03T17:36:20.675156",
     "status": "completed"
    },
    "tags": []
   },
   "outputs": [
    {
     "name": "stdout",
     "output_type": "stream",
     "text": [
      "EfficientNetB0\n"
     ]
    },
    {
     "data": {
      "image/png": "[encoded data removed]",
      "text/plain": [
       "<Figure size 432x288 with 2 Axes>"
      ]
     },
     "metadata": {
      "needs_background": "light"
     },
     "output_type": "display_data"
    },
    {
     "name": "stdout",
     "output_type": "stream",
     "text": [
      "EfficientNetB1\n"
     ]
    },
    {
     "data": {
      "image/png": "[encoded data removed]",
      "text/plain": [
       "<Figure size 432x288 with 2 Axes>"
      ]
     },
     "metadata": {
      "needs_background": "light"
     },
     "output_type": "display_data"
    },
    {
     "name": "stdout",
     "output_type": "stream",
     "text": [
      "ResNet50V2\n"
     ]
    },
    {
     "data": {
      "image/png": "[encoded data removed]",
      "text/plain": [
       "<Figure size 432x288 with 2 Axes>"
      ]
     },
     "metadata": {
      "needs_background": "light"
     },
     "output_type": "display_data"
    },
    {
     "name": "stdout",
     "output_type": "stream",
     "text": [
      "VGG19\n"
     ]
    },
    {
     "data": {
      "image/png": "[encoded data removed]",
      "text/plain": [
       "<Figure size 432x288 with 2 Axes>"
      ]
     },
     "metadata": {
      "needs_background": "light"
     },
     "output_type": "display_data"
    },
    {
     "name": "stdout",
     "output_type": "stream",
     "text": [
      "Ensemble\n"
     ]
    },
    {
     "data": {
      "image/png": "[encoded data removed]",
      "text/plain": [
       "<Figure size 432x288 with 2 Axes>"
      ]
     },
     "metadata": {
      "needs_background": "light"
     },
     "output_type": "display_data"
    }
   ],
   "source": [
    "print('EfficientNetB0')\n",
    "skplt.metrics.plot_confusion_matrix(\n",
    "    test_preds['True'], \n",
    "    test_preds['EfficientNetB0'],\n",
    ")\n",
    "plt.show()\n",
    "\n",
    "print('EfficientNetB1')\n",
    "skplt.metrics.plot_confusion_matrix(\n",
    "    test_preds['True'], \n",
    "    test_preds['EfficientNetB1'],\n",
    ")\n",
    "plt.show()\n",
    "\n",
    "print('ResNet50V2')\n",
    "skplt.metrics.plot_confusion_matrix(\n",
    "    test_preds['True'], \n",
    "    test_preds['ResNet50V2'],\n",
    ")\n",
    "plt.show()\n",
    "\n",
    "print('VGG19')\n",
    "skplt.metrics.plot_confusion_matrix(\n",
    "    test_preds['True'], \n",
    "    test_preds['VGG19'],\n",
    ")\n",
    "plt.show()\n",
    "\n",
    "print('Ensemble')\n",
    "skplt.metrics.plot_confusion_matrix(\n",
    "    testgen.labels, \n",
    "    final_preds,\n",
    ")\n",
    "plt.show()"
   ]
  }
 ],
 "metadata": {
  "kernelspec": {
   "display_name": "Python 3",
   "language": "python",
   "name": "python3"
  },
  "language_info": {
   "codemirror_mode": {
    "name": "ipython",
    "version": 3
   },
   "file_extension": ".py",
   "mimetype": "text/x-python",
   "name": "python",
   "nbconvert_exporter": "python",
   "pygments_lexer": "ipython3",
   "version": "3.7.6"
  },
  "papermill": {
   "duration": 14412.689614,
   "end_time": "2021-01-03T17:36:36.925877",
   "environment_variables": {},
   "exception": null,
   "input_path": "__notebook__.ipynb",
   "output_path": "__notebook__.ipynb",
   "parameters": {},
   "start_time": "2021-01-03T13:36:24.236263",
   "version": "2.1.0"
  }
 },
 "nbformat": 4,
 "nbformat_minor": 4
}
